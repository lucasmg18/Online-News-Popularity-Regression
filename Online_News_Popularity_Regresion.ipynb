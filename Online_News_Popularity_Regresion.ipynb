{
  "nbformat": 4,
  "nbformat_minor": 0,
  "metadata": {
    "colab": {
      "provenance": []
    },
    "kernelspec": {
      "name": "python3",
      "display_name": "Python 3"
    },
    "language_info": {
      "name": "python"
    }
  },
  "cells": [
    {
      "cell_type": "markdown",
      "source": [
        "# Aprendizaje Automático - Online News Popularity - Regresión\n",
        "\n",
        "\n",
        "\n",
        "---"
      ],
      "metadata": {
        "id": "VvcaSf5uskbO"
      }
    },
    {
      "cell_type": "code",
      "source": [
        "import numpy as np\n",
        "import pandas as pd\n",
        "import matplotlib.pyplot as plt"
      ],
      "metadata": {
        "id": "dWdFcdhakDXf"
      },
      "execution_count": null,
      "outputs": []
    },
    {
      "cell_type": "markdown",
      "source": [
        "Ejecutar completamente este documento no es instantáneo, lleva algunos minutos, entorno a 5 minutos, pero siempre termina de ejecutarse, no se queda de forma indefinida y siempre termina mucho antes de llegar a los 10 minutos."
      ],
      "metadata": {
        "id": "if79I1ixuy4G"
      }
    },
    {
      "cell_type": "markdown",
      "source": [
        "#### <font color='blue'>1)  Analizar y describir adecuadamente el problema a resolver. Identificar los elementos $X$, $Y$ and $f$ del problema, y describirlos en detalle. 0.5 puntos."
      ],
      "metadata": {
        "id": "Y2HSMffMUP10"
      }
    },
    {
      "cell_type": "markdown",
      "source": [
        "Este problema de regresión se trata de, a partir de las muestras de entrenamiento y test obtenidas de una base de datos proporcionada, donde cada muestra contiene información sobre artículos publicados por \"Mashable\" en un periodo de dos años, se busca aprender una función $g$ que estime el número de comparticiones en redes sociales que obtendrá un artículo.\n",
        "   \n",
        "Cada muestra posee 60 atributos, cada uno representando un dato del artículo , y una etiqueta representando el número de comparticiones. Por lo tanto cada muestra $n$ se identificará como un vector $x_n$ con 60 valores, que son todos números, y tiene una etiqueta asociada representada por un valor numérico $y \\geq 0$, que tiene que ser mayor o igual que cero ya que no debería poder tener un número negativo de comparticiones. Entonces $X$ será el vector de muestras $x_n$ y el elemento $Y$ será el vector de etiquetas $y$.\n",
        "  \n",
        "Para aprender la función $g$ se empleará un algoritmo de aprendizaje automático que utilice el conjunto de entrenamiento para ajustar el vector $w$ de prámetros (pesos) del modelo (sobre una clase de funciones $\\mathcal{H}$), minimizando el error asociado al algoritmo de las soluciones calculadas. Como resultado de aplicar el algoritmo al problema, obtendremos una función $g$ solución que para cualquier muestra $x$ del espacio total de las posibles muestras, nos proporcione una etiqueta $y$ que será la predicción de la estimación de la muestra. Finalmente se utilizará el conjunto de muestras de test para evaluar el error fuera de la muestra de entrenamiento.   \n",
        "\n",
        "Durante el proceso de aprendizaje el conjunto de datos puede modificarse, tratando de no afectar la importancia e información que ofrecen los datos, para obtener mejores resultados a la hora de aplicar los algorimtos de aprendizaje automático que utilicemos para encontrar el mejor clasificador para el problema."
      ],
      "metadata": {
        "id": "CEpiie784Ku0"
      }
    },
    {
      "cell_type": "markdown",
      "source": [
        "Todas las variables del conjunto de datos son:\n",
        "\n",
        "| Número | Nombre                           | Descripción                                                                                         |\n",
        "|--------|----------------------------------|-----------------------------------------------------------------------------------------------------|\n",
        "| 0      | url                              | URL of the article (non-predictive)                                                                 |\n",
        "| 1      | timedelta                        | Days between the article publication and the dataset acquisition (non-predictive)                   |\n",
        "| 2      | n_tokens_title                   | Number of words in the title                                                                        |\n",
        "| 3      | n_tokens_content                 | Number of words in the content                                                                      |\n",
        "| 4      | n_unique_tokens                  | Rate of unique words in the content                                                                 |\n",
        "| 5      | n_non_stop_words                 | Rate of non-stop words in the content                                                               |\n",
        "| 6      | n_non_stop_unique_tokens         | Rate of unique non-stop words in the content                                                        |\n",
        "| 7      | num_hrefs                        | Number of links                                                                                     |\n",
        "| 8      | num_self_hrefs                   | Number of links to other articles published by Mashable                                             |\n",
        "| 9      | num_imgs                         | Number of images                                                                                    |\n",
        "| 10     | num_videos                       | Number of videos                                                                                    |\n",
        "| 11     | average_token_length             | Average length of the words in the content                                                          |\n",
        "| 12     | num_keywords                     | Number of keywords in the metadata                                                                  |\n",
        "| 13     | data_channel_is_lifestyle        | Is data channel 'Lifestyle'?                                                                        |\n",
        "| 14     | data_channel_is_entertainment    | Is data channel 'Entertainment'?                                                                    |\n",
        "| 15     | data_channel_is_bus              | Is data channel 'Business'?                                                                         |\n",
        "| 16     | data_channel_is_socmed           | Is data channel 'Social Media'?                                                                     |\n",
        "| 17     | data_channel_is_tech             | Is data channel 'Tech'?                                                                             |\n",
        "| 18     | data_channel_is_world            | Is data channel 'World'?                                                                            |\n",
        "| 19     | kw_min_min                       | Worst keyword (min. shares)                                                                         |\n",
        "| 20     | kw_max_min                       | Worst keyword (max. shares)                                                                         |\n",
        "| 21     | kw_avg_min                       | Worst keyword (avg. shares)                                                                         |\n",
        "| 22     | kw_min_max                       | Best keyword (min. shares)                                                                          |\n",
        "| 23     | kw_max_max                       | Best keyword (max. shares)                                                                          |\n",
        "| 24     | kw_avg_max                       | Best keyword (avg. shares)                                                                          |\n",
        "| 25     | kw_min_avg                       | Avg. keyword (min. shares)                                                                          |\n",
        "| 26     | kw_max_avg                       | Avg. keyword (max. shares)                                                                          |\n",
        "| 27     | kw_avg_avg                       | Avg. keyword (avg. shares)                                                                          |\n",
        "| 28     | self_reference_min_shares        | Min. shares of referenced articles in Mashable                                                      |\n",
        "| 29     | self_reference_max_shares        | Max. shares of referenced articles in Mashable                                                      |\n",
        "| 30     | self_reference_avg_sharess       | Avg. shares of referenced articles in Mashable                                                      |\n",
        "| 31     | weekday_is_monday                | Was the article published on a Monday?                                                              |\n",
        "| 32     | weekday_is_tuesday               | Was the article published on a Tuesday?                                                             |\n",
        "| 33     | weekday_is_wednesday             | Was the article published on a Wednesday?                                                           |\n",
        "| 34     | weekday_is_thursday              | Was the article published on a Thursday?                                                            |\n",
        "| 35     | weekday_is_friday                | Was the article published on a Friday?                                                              |\n",
        "| 36     | weekday_is_saturday              | Was the article published on a Saturday?                                                            |\n",
        "| 37     | weekday_is_sunday                | Was the article published on a Sunday?                                                              |\n",
        "| 38     | is_weekend                       | Was the article published on the weekend?                                                          |\n",
        "| 39     | LDA_00                           | Closeness to LDA topic 0                                                                            |\n",
        "| 40     | LDA_01                           | Closeness to LDA topic 1                                                                            |\n",
        "| 41     | LDA_02                           | Closeness to LDA topic 2                                                                            |\n",
        "| 42     | LDA_03                           | Closeness to LDA topic 3                                                                            |\n",
        "| 43     | LDA_04                           | Closeness to LDA topic 4                                                                            |\n",
        "| 44     | global_subjectivity              | Text subjectivity                                                                                   |\n",
        "| 45     | global_sentiment_polarity        | Text sentiment polarity                                                                             |\n",
        "| 46     | global_rate_positive_words       | Rate of positive words in the content                                                               |\n",
        "| 47     | global_rate_negative_words       | Rate of negative words in the content                                                               |\n",
        "| 48     | rate_positive_words              | Rate of positive words among non-neutral tokens                                                     |\n",
        "| 49     | rate_negative_words              | Rate of negative words among non-neutral tokens                                                     |\n",
        "| 50     | avg_positive_polarity            | Avg. polarity of positive words                                                                      |\n",
        "| 51     | min_positive_polarity            | Min. polarity of positive words                                                                      |\n",
        "| 52     | max_positive_polarity            | Max. polarity of positive words                                                                      |\n",
        "| 53     | avg_negative_polarity            | Avg. polarity of negative words                                                                      |\n",
        "| 54     | min_negative_polarity            | Min. polarity of negative words                                                                      |\n",
        "| 55     | max_negative_polarity            | Max. polarity of negative words                                                                      |\n",
        "| 56     | title_subjectivity               | Title subjectivity                                                                                  |\n",
        "| 57     | title_sentiment_polarity         | Title polarity                                                                                      |\n",
        "| 58     | abs_title_subjectivity           | Absolute subjectivity level                                                                          |\n",
        "| 59     | abs_title_sentiment_polarity     | Absolute polarity level                                                                             |\n",
        "| 60     | shares                           | Number of shares (target)                                                                           |\n"
      ],
      "metadata": {
        "id": "PdxYsnNZfB--"
      }
    },
    {
      "cell_type": "markdown",
      "source": [
        ">Acceder a los datos:\n",
        "\n"
      ],
      "metadata": {
        "id": "dbc8dfqr-26R"
      }
    },
    {
      "cell_type": "code",
      "source": [
        "#Para acceder a nuestros ficheros de Google Drive\n",
        "from google.colab import drive\n",
        "drive.mount('/content/drive')\n",
        "# La carpeta datos (que contiene X_train.npy, y_train.npy, X_test.npy y y_test.npy)\n",
        "# debe estar en vuestro Drive, dentro de la carpeta 'Colab Notebooks'"
      ],
      "metadata": {
        "colab": {
          "base_uri": "https://localhost:8080/"
        },
        "id": "WW4AUpWO-oKC",
        "outputId": "32515bb9-5aec-4335-b4ce-cab23c903e92"
      },
      "execution_count": null,
      "outputs": [
        {
          "output_type": "stream",
          "name": "stdout",
          "text": [
            "Drive already mounted at /content/drive; to attempt to forcibly remount, call drive.mount(\"/content/drive\", force_remount=True).\n"
          ]
        }
      ]
    },
    {
      "cell_type": "code",
      "source": [
        "#Primera parte de los datos (parte de entrenamiento)\n",
        "file_path = 'drive/MyDrive/Colab Notebooks/datos/OnlineNewsPopularity.csv'\n",
        "\n",
        "datos = np.genfromtxt(file_path, delimiter=\",\") #Funcion cargar datos desde txt, y en este caso desde csv\n",
        "\n",
        "x = datos[:, :-1]  # todas las columnas excepto la última\n",
        "y = datos[:, -1]   # ultima columna donde estan las etiquetas\n",
        "x = np.array(x, np.float64)\n",
        "y = np.array(y, np.float64)\n",
        "\n",
        "# Mostrar dimension del conjunto de muestras total\n",
        "print(\"Forma de vector X de muestras:\", x.shape)\n",
        "print(\"Forma de vector Y de etiquetas:\", y.shape)"
      ],
      "metadata": {
        "id": "XlFg2waKWdHo",
        "colab": {
          "base_uri": "https://localhost:8080/"
        },
        "outputId": "18fc8e8f-7f20-4bbe-9a07-efa93a83091e"
      },
      "execution_count": null,
      "outputs": [
        {
          "output_type": "stream",
          "name": "stdout",
          "text": [
            "Forma de vector X de muestras: (39645, 60)\n",
            "Forma de vector Y de etiquetas: (39645,)\n"
          ]
        }
      ]
    },
    {
      "cell_type": "markdown",
      "source": [
        "Analizando el conjunto de datos he observado que las dos primeras variables son información no predictiva de las muestras ya que se tratan de la url y los días trascurridos desde la publicación hasta que se obtuvo la base de datos, por lo tanto se pueden eliminar. También observamos que la variable número 38 representa si el día es fin de semana, y como ya tenemos las dos variables anteriores que representan si el día es sabado o domingo, esta variable depende directamente de las otras, y por tanto puede eliminarse ya que no aporta más información útil al conjunto de datos. Además también he visto que la primera fila del conjunto se trata de los nombres de las columnas y por tanto hay que eliminar esa fila."
      ],
      "metadata": {
        "id": "zt6gMlQ_gNU3"
      }
    },
    {
      "cell_type": "code",
      "source": [
        "# Eliminar la primer fila con los titulos\n",
        "indices_elim = [0]\n",
        "x = np.delete(x, indices_elim, axis=0)\n",
        "y = np.delete(y, indices_elim, axis=0)\n",
        "\n",
        "# Mostrar dimension del conjunto de muestras total\n",
        "print(\"Forma de vector X de muestras:\", x.shape)\n",
        "print(\"Forma de vector Y de etiquetas:\", y.shape)"
      ],
      "metadata": {
        "colab": {
          "base_uri": "https://localhost:8080/"
        },
        "id": "AK2OB5qDsUbT",
        "outputId": "e83a3ab7-b9d7-4599-cfc5-a2b6fb80e9c5"
      },
      "execution_count": null,
      "outputs": [
        {
          "output_type": "stream",
          "name": "stdout",
          "text": [
            "Forma de vector X de muestras: (39644, 60)\n",
            "Forma de vector Y de etiquetas: (39644,)\n"
          ]
        }
      ]
    },
    {
      "cell_type": "code",
      "source": [
        "# Eliminar las variables no predictivas y redundantes\n",
        "indices_elim = [0,1,38]\n",
        "x = np.delete(x, indices_elim, axis=1)\n",
        "\n",
        "# Mostrar dimension del conjunto de muestras total\n",
        "print(\"Forma de vector X de muestras:\", x.shape)\n",
        "print(\"Forma de vector Y de etiquetas:\", y.shape)"
      ],
      "metadata": {
        "colab": {
          "base_uri": "https://localhost:8080/"
        },
        "id": "XctdmrpinZUu",
        "outputId": "2ab58562-7440-49ca-b55a-d9c91cde2ee1"
      },
      "execution_count": null,
      "outputs": [
        {
          "output_type": "stream",
          "name": "stdout",
          "text": [
            "Forma de vector X de muestras: (39644, 57)\n",
            "Forma de vector Y de etiquetas: (39644,)\n"
          ]
        }
      ]
    },
    {
      "cell_type": "markdown",
      "source": [
        "Después de obtener el conjunto total de datos separamos los datos en un conjunto de entrenamiento y otro de test. Realizamos esto lo primero para evitar observar los datos de test y realizar \"Data Snooping\" donde el conjunto de datos podría influenciar nuestra elección sobre el modelo a utilizar para resolver el problema de aprendizaje automático. Para separar las muestras en train y test, dos distribuciones muy comunes en la práctica son 70% de train y 30% de test, y 80% de train y 20% de test. Al utilizar una distribución 70-30 obtendríamos una estimación mejor del error $E_{out}$ a partir del error $E_{test}$ que con la de 80-20, ya que se utilizaría un número mayor de muestras para obtener la estimación, un 30% del total, que en la otra distribución que usaría un 20% del total. Sin embargo, al utilizar una distribución 80-20 obtendríamos un mejor ajuste del problema al entrenar el modelo de aprendizaje con más datos que con la otra distribución, teniendo una mejor generalización en el conjunto de entrenamiento de la función que tratamos de aproximar. En general cuantos más datos se utilicen en test mejor será la estimación del error  $E_{out}$ y cuantos más datos se utilicen en el entrenamiento, el clasificador calculado se ajustará mejor al problema, ya que tiene más datos con los que aprender.  \n",
        "En este caso he elegido una distribución de 80% para entrenamiento y 20% de test, teniendo en cuenta que con esta distribución se tiene un número menor de datos para estimar el error  $E_{out}$, pero se tiene un número mayor de datos para entrenar y para utilizar Cross-Validation con un conjunto de datos mayor."
      ],
      "metadata": {
        "id": "YcO9qDWOuVwd"
      }
    },
    {
      "cell_type": "code",
      "source": [
        "np.random.seed(0)\n",
        "trainPortion = 0.8 #porcentaje de train, el porcentaje de test será la resta de 1 menos el porcentaje de train\n",
        "\n",
        "#-------------Obtener índices\n",
        "\n",
        "indexesData = np.arange(len(y)) #Indices del conjunto de muestras\n",
        "#-------------Desordenar indices y separar en rain y test\n",
        "\n",
        "np.random.shuffle(indexesData) #Desordenar indices de las muestras\n",
        "numberTrain = round(len(indexesData)*trainPortion) #numero de muestras para train\n",
        "trainIndexes = indexesData[:numberTrain]\n",
        "testIndexes = indexesData[numberTrain:]\n",
        "\n",
        "#-------------Datos desorden:ados para train y test\n",
        "\n",
        "trainX = x[trainIndexes]\n",
        "testX = x[testIndexes]\n",
        "trainY = y[trainIndexes]\n",
        "testY = y[testIndexes]\n",
        "\n",
        "#-------------Copia de los datos para mantener datos originales después del preprocesado\n",
        "\n",
        "original_trainX = trainX.copy()\n",
        "original_testX = testX.copy()\n",
        "original_trainY = trainY.copy()\n",
        "original_testY = testY.copy()\n",
        "\n",
        "#-------------Mostrar resultados\n",
        "\n",
        "print('Muestras totales:  {}'.format(len(trainY)+len(testX)))\n",
        "print('Muestras train:  {}'.format(len(trainY)))\n",
        "print('Muestras test:  {}'.format(len(testX)))\n"
      ],
      "metadata": {
        "id": "6nXUieJWpv2t",
        "colab": {
          "base_uri": "https://localhost:8080/"
        },
        "outputId": "0ecdd7a0-e2bf-4041-b185-e162e1c5484c"
      },
      "execution_count": null,
      "outputs": [
        {
          "output_type": "stream",
          "name": "stdout",
          "text": [
            "Muestras totales:  39644\n",
            "Muestras train:  31715\n",
            "Muestras test:  7929\n"
          ]
        }
      ]
    },
    {
      "cell_type": "markdown",
      "source": [
        "Se podría utilizar la función `train_test_split()` de scikit-learn que ofrece un comportamiento similar al código implementado. Como podemos observar, tenemos un total de 39644 muestras, de los cuales 31715 , que representan el 80% del total, serán utilizados para entrenamiento y el resto 7929 (20% del total) para test."
      ],
      "metadata": {
        "id": "pxH0FJXoCkVT"
      }
    },
    {
      "cell_type": "markdown",
      "source": [
        ">**Datos faltantes:**"
      ],
      "metadata": {
        "id": "7EV0gMEoRvjM"
      }
    },
    {
      "cell_type": "markdown",
      "source": [
        "Para ver si faltan datos en nuestro conjunto de datos, vamos a utilizar la función `isnull()` de la librería pandas para contar el número de datos que faltan en el conjunto. Esta función detecta si algún valor en el conjunto de datos es del tipo no numéricos o de valor nulo y devuelve una matriz de la misma forma que el conjunto de datos que recibe como parámetro, en el que cada posición devuelve verdadero si falta el dato o falso si no falta el dato:"
      ],
      "metadata": {
        "id": "7-6K0zLHSiDo"
      }
    },
    {
      "cell_type": "code",
      "source": [
        "dfTrainX = pd.DataFrame(trainX) #crear dataframe para utilizar las funciones de al libreria de Pandas\n",
        "num_missing = np.sum(dfTrainX.isnull().values)\n",
        "print(\"Número de datos faltantes: \", num_missing)"
      ],
      "metadata": {
        "colab": {
          "base_uri": "https://localhost:8080/"
        },
        "id": "u7vAvxvnShiA",
        "outputId": "df672328-fcbc-4356-a4f4-a085c608ce38"
      },
      "execution_count": null,
      "outputs": [
        {
          "output_type": "stream",
          "name": "stdout",
          "text": [
            "Número de datos faltantes:  0\n"
          ]
        }
      ]
    },
    {
      "cell_type": "markdown",
      "source": [
        "Como podemos observar no existen datos faltantes en nuestro conjunto de datos y por tanto no hay que realizar ninguna acción al respecto ya que no tenemos ningún problema de datos faltantes."
      ],
      "metadata": {
        "id": "2qaSIz4NToCv"
      }
    },
    {
      "cell_type": "markdown",
      "source": [
        ">**Desequilibrio en los datos:**"
      ],
      "metadata": {
        "id": "DglU3G8YRso-"
      }
    },
    {
      "cell_type": "markdown",
      "source": [
        "Vamos a observar el histograma del conjunto de muestras para ver si existe un desequilibrio en los datos en cuanto a los valores de las etiquetas en el conjunto de entrenamiento (el conjunto de test no lo utilizamos hasta que tengamos que evaluar la mejor hipótesis seleccionada, para evitar realizar Data-Snooping):"
      ],
      "metadata": {
        "id": "TSNaMLkmGIlk"
      }
    },
    {
      "cell_type": "code",
      "source": [
        "# Dibujar el histograma\n",
        "plt.hist(trainY, bins='auto')\n",
        "\n",
        "plt.yscale('log') #Escala logarítmica del eje y\n",
        "plt.xlabel('Etiquetas')\n",
        "plt.ylabel('Frecuencia')\n",
        "plt.title('Histograma de las etiquetas')\n",
        "\n",
        "# Mostrar el histograma\n",
        "plt.show()"
      ],
      "metadata": {
        "colab": {
          "base_uri": "https://localhost:8080/",
          "height": 472
        },
        "id": "1d4plvGeV0TW",
        "outputId": "d86bd65f-ad85-4767-86ce-e7e7c7fe4c2e"
      },
      "execution_count": null,
      "outputs": [
        {
          "output_type": "display_data",
          "data": {
            "text/plain": [
              "<Figure size 640x480 with 1 Axes>"
            ],
            "image/png": "[encoded data removed]"
          },
          "metadata": {}
        }
      ]
    },
    {
      "cell_type": "markdown",
      "source": [
        "Analizando los datos vemos en el histograma de las etiquetas que existen algunos valores extremos en cuanto al número de visitas. Estos datos pueden parecer outliers, datos atípicos producidos por algún error en la medición o por ruido, pero teniendo en cuenta la naturzaleza del problema, como se trata del número de comparticiones en redes sociales, pueden ser datos reales de artículos con mayor éxito y por tanto estos datos pueden ayudar al aprendizaje y son datos que el clasificador tiene que intentar predecir. Por lo tanto estos datos no se van a eliminar del conjunto de datos como si fueran outliers.  \n",
        "\n",
        " Para ver mejor el histograma en la zona donde se concentran la mayoría de datos vamos a calcular los percentiles 0 y 97.5 ya que las etiquetas tiene valor mayor o igual a cero (al ser comparticiones en redes sociales) y los valores menos frecuentes están muy alejados del valor 0, en el extremo superior del conjunto de posibles etiquetas. Por lo tanto voy a visualizar el 97.5% de los datos con menor valor en la etiqueta en un histograma:"
      ],
      "metadata": {
        "id": "ZgJ87l8ZPZKx"
      }
    },
    {
      "cell_type": "code",
      "source": [
        "lower_percentile = np.percentile(trainY, 0)  # Percentil 2.5\n",
        "upper_percentile = np.percentile(trainY, 97.5)  # Percentil 97.5\n",
        "\n",
        "# Dibujar el histograma\n",
        "plt.hist(trainY, bins='auto', range=(lower_percentile, upper_percentile)) #bins 'auto' permite seleccionar a la función automaticamente el número de rangos que crear\n",
        "\n",
        "plt.xlabel('Etiquetas')\n",
        "plt.ylabel('Frecuencia')\n",
        "plt.title('Histograma de las etiquetas')\n",
        "\n",
        "# Mostrar el histograma\n",
        "plt.show()"
      ],
      "metadata": {
        "colab": {
          "base_uri": "https://localhost:8080/",
          "height": 472
        },
        "outputId": "a5b74fb0-fd72-4484-c21d-5915466f95c9",
        "id": "C-YAkPkmLETX"
      },
      "execution_count": null,
      "outputs": [
        {
          "output_type": "display_data",
          "data": {
            "text/plain": [
              "<Figure size 640x480 with 1 Axes>"
            ],
            "image/png": "[encoded data removed]"
          },
          "metadata": {}
        }
      ]
    },
    {
      "cell_type": "markdown",
      "source": [
        "En este nuevo histograma podemos observar mejor la frecuencia de etiquetas entre el conjunto de muestras. Se puede ver como existe un claro desequilibrio en el conjunto de muestras ya que el número de muestras con valor entre 0 y 5000 es mucho mayor que el número de muestras con valor mayor que 5000.\n",
        "Debido a este desequilibrio del conjunto de datos, las variables utilizadas pueden tener un mayor impacto a la hora de estimar las muestras con valores más atípicos en el conjunto de datos y por tanto hay que ser más cautelosos con la anulación de variables y la regularización ya que, variables que se consideren menos importantes para la mayoría de los datos pueden ser imporantes para predecir muestras con valores más extremos que existen en el conjunto como hemos visto anteriormente."
      ],
      "metadata": {
        "id": "p5mcLLnoOoc8"
      }
    },
    {
      "cell_type": "markdown",
      "source": [
        ">**Escala del Conjunto de Datos**"
      ],
      "metadata": {
        "id": "ZMLBoDEts7yt"
      }
    },
    {
      "cell_type": "markdown",
      "source": [
        "Voy a analizar los máximos y mínimos que toman las variables del conjunto de datos de entrenamiento para observar si hay diferencias de escalas entre los distintos parámetros de las muestras. Es importante destacar que estos análisis de los datos han de hacerse únicamente en el conjunto de entrenamiento ya que el econjunto de test es el que será utilizado para evaluar el modelo final y las elecciones tanto del modelo como de las transformaciones no deben influenciarse por la información de este conjunto, y así evitar cometer Data Snooping."
      ],
      "metadata": {
        "id": "uvahk1gdxRI7"
      }
    },
    {
      "cell_type": "code",
      "source": [
        "preproc_trainX = trainX.copy()\n",
        "preproc_testX = testX.copy()\n",
        "# Obtener el valor máximo y mínimo de cada columna en el conjunto de entrenamiento\n",
        "max_values = np.max(preproc_trainX, axis=0)\n",
        "min_values = np.min(preproc_trainX, axis=0)\n",
        "\n",
        "# Crear los nombres de las columnas\n",
        "column_names = np.arange(len(max_values))\n",
        "\n",
        "# Crear histograma de los valores máximos\n",
        "plt.bar(column_names, max_values)\n",
        "plt.yscale('log') #Escala logarítmica del eje y\n",
        "plt.xlabel('Columna')\n",
        "plt.ylabel('Valor máximo')\n",
        "plt.title('Valores máximos por columna')\n",
        "plt.show()\n",
        "\n",
        "# Crear histograma de los valores mínimos\n",
        "plt.bar(column_names, min_values)\n",
        "plt.xlabel('Columna')\n",
        "plt.ylabel('Valor mínimo')\n",
        "plt.title('Valores mínimos por columna')\n",
        "plt.show()"
      ],
      "metadata": {
        "colab": {
          "base_uri": "https://localhost:8080/",
          "height": 927
        },
        "id": "FpedR7wntSiO",
        "outputId": "e2c3905a-f142-4db5-ec25-150056d4f049"
      },
      "execution_count": null,
      "outputs": [
        {
          "output_type": "display_data",
          "data": {
            "text/plain": [
              "<Figure size 640x480 with 1 Axes>"
            ],
            "image/png": "[encoded data removed]"
          },
          "metadata": {}
        },
        {
          "output_type": "display_data",
          "data": {
            "text/plain": [
              "<Figure size 640x480 with 1 Axes>"
            ],
            "image/png": "[encoded data removed]"
          },
          "metadata": {}
        }
      ]
    },
    {
      "cell_type": "markdown",
      "source": [
        "Como podemos observar en los dos histogramas, los valores máximos de las variables difieren en gran medida, y por tanto podemos aplicar un método de escalado de los datos para que todos los datos se encuentren en la misma escala y así evitar que una variable domine durante el ajuste del modelo. Como podemos observar en los valores mínimos, se tienen variables negativas y por tanto podemos usar un método de escalado que transforme los datos a una escala entre -1 y 1, para que pueda seguir habiendo variables negativas. Este escalado se realiza en el apartado 4). Se ha aplicado una escala logaítmica al eje y para poder visualizar el gráfico de máximos con más claridad."
      ],
      "metadata": {
        "id": "FvdP7EPExhid"
      }
    },
    {
      "cell_type": "markdown",
      "source": [
        "Ahora voy a analizar si hay alguna variable que sea constante, esto se puede implementar de muchas maneras, pero si se realiza la resta de los valores máximos menos los valores mínimos, solo las variables constantes tendrán resta 0, y de esta manera utilizamos la información que ya teníamos antes sobre los máximos y mínimos."
      ],
      "metadata": {
        "id": "RHi2W5tD5vEp"
      }
    },
    {
      "cell_type": "code",
      "source": [
        "# Crear histograma de las desviaciones estandar\n",
        "plt.bar(column_names, max_values-min_values)\n",
        "plt.xlabel('Columna')\n",
        "plt.yscale('log') #Escala logarítmica del eje y\n",
        "plt.ylabel('Resta Maximo y Mínimo')\n",
        "plt.title('Diferencia Máximo - Mínimo')\n",
        "plt.show()"
      ],
      "metadata": {
        "colab": {
          "base_uri": "https://localhost:8080/",
          "height": 472
        },
        "id": "-UAAC-tS465p",
        "outputId": "af419665-645e-43c6-9213-b186570225d5"
      },
      "execution_count": null,
      "outputs": [
        {
          "output_type": "display_data",
          "data": {
            "text/plain": [
              "<Figure size 640x480 with 1 Axes>"
            ],
            "image/png": "[encoded data removed]"
          },
          "metadata": {}
        }
      ]
    },
    {
      "cell_type": "markdown",
      "source": [
        "Como pdoemos observar en el histográma de las diferencias entre los máximos y mínimos, no existen variables constantes. Se ha aplicado una escala logaítmica al eje y para poder visualizar el gráfico con más claridad."
      ],
      "metadata": {
        "id": "NMKPr--o7lKE"
      }
    },
    {
      "cell_type": "code",
      "source": [
        "variables_ctes = []\n",
        "for i in range(len(max_values)):\n",
        "  if(max_values[i]  == min_values[i]): # es equivalente que sean iguales a que su resta sea 0\n",
        "    print('La variable {} es constante'.format(i))\n",
        "    variables_ctes.append(i)\n",
        "if(len(variables_ctes) == 0):\n",
        "  print('No hay variables constantes')"
      ],
      "metadata": {
        "colab": {
          "base_uri": "https://localhost:8080/"
        },
        "id": "JqtECMRH6jZs",
        "outputId": "7a431ef4-6ebd-4d24-d46c-e49a3cd77924"
      },
      "execution_count": null,
      "outputs": [
        {
          "output_type": "stream",
          "name": "stdout",
          "text": [
            "No hay variables constantes\n"
          ]
        }
      ]
    },
    {
      "cell_type": "markdown",
      "source": [
        "Con este último algoritmo hemos detectado de manera precisa que no hay variables constantes en el conjunto de datos. Este tipo de variables no proporcionan información sobre cada muestra ya que todas las muestras tienen el mismo valor para ese tipo de variables y por tanto al no tener variabilidad no contribuye al modelo para predecir y diferenciar entre ambas clases, por lo tanto si hubiese se podrían eliminar del conjunto de datos."
      ],
      "metadata": {
        "id": "swuQWoIg7ts4"
      }
    },
    {
      "cell_type": "markdown",
      "source": [
        ">**Outliers**"
      ],
      "metadata": {
        "id": "TW08M9_N1cb6"
      }
    },
    {
      "cell_type": "markdown",
      "source": [
        "Tras realizar validación cruzada con los modelos elegidos que se comentarán más adelante y obtener las evaluaciones de la métricas que también se explican en un apartado posterior, obtenía valores de los errores muy elevados. Tras realizar un análisis más exhaustivo de las variables, comparando con los valores máximos, mínimos que se muestran en las tablas anteriores, encontré una variable que se trataba de un ratio, la variable:  \n",
        "*  5:\tn_non_stop_words\tRate of non-stop words in the content    \n",
        "\n",
        "y el valor máximo de la variable muy elevado para encontrarse en un ratio de palabras que son del tipo \"non stop\" de entre todas las palabras del contenido, y por tanto existía una muestra con valor mayor que 1, alrededor del valor 1000. Por ello, como ese valor no es posible para es variable, ya que se trata de un ratio, de un valor entre 0 y 1, he decidido calsificar la muestra com un error de medición, un outliner, y la he eliminado para que no afecte al proceso de aprendizaje;"
      ],
      "metadata": {
        "id": "L3PB295kxnnc"
      }
    },
    {
      "cell_type": "code",
      "source": [
        "variables_atip = []\n",
        "for i in range(len(preproc_trainX)):\n",
        "  if(preproc_trainX[i,3]  >1): # la variable era la 3 despues de eliminar las dos primeras\n",
        "    print('La muestra {} es atípica, valor:{} '.format(i,preproc_trainX[i,3]))\n",
        "    variables_atip.append(i)\n",
        "# Mostrar dimension del conjunto de muestras\n",
        "print(\"Forma de vector X de muestras:\", preproc_trainX.shape)\n",
        "print(\"Forma de vector Y de etiquetas:\", trainY.shape)"
      ],
      "metadata": {
        "id": "xpteRC8DrCLa",
        "colab": {
          "base_uri": "https://localhost:8080/"
        },
        "outputId": "2ac1a48c-ed9c-4963-ed82-b71dd51c7801"
      },
      "execution_count": null,
      "outputs": [
        {
          "output_type": "stream",
          "name": "stdout",
          "text": [
            "La muestra 3039 es atípica, valor:1042.0 \n",
            "Forma de vector X de muestras: (31715, 57)\n",
            "Forma de vector Y de etiquetas: (31715,)\n"
          ]
        }
      ]
    },
    {
      "cell_type": "code",
      "source": [
        "preproc_trainX = np.delete(preproc_trainX, variables_atip, axis=0)\n",
        "trainY = np.delete(trainY, variables_atip, axis=0)\n",
        "# Mostrar dimension del conjunto de muestras\n",
        "print(\"Forma de vector X de muestras:\", preproc_trainX.shape)\n",
        "print(\"Forma de vector Y de etiquetas:\", trainY.shape)"
      ],
      "metadata": {
        "colab": {
          "base_uri": "https://localhost:8080/"
        },
        "id": "FlLwPPa8tuOX",
        "outputId": "60ab2428-539d-4d14-842c-bebf8550506e"
      },
      "execution_count": null,
      "outputs": [
        {
          "output_type": "stream",
          "name": "stdout",
          "text": [
            "Forma de vector X de muestras: (31714, 57)\n",
            "Forma de vector Y de etiquetas: (31714,)\n"
          ]
        }
      ]
    },
    {
      "cell_type": "markdown",
      "source": [
        "vemos que se ha eliminado correctamente"
      ],
      "metadata": {
        "id": "O3rCxfnW3w0f"
      }
    },
    {
      "cell_type": "markdown",
      "source": [
        "#### <font color='blue'>2)  Identificar qué conjuntos de hipótesis se emplearán y justificar dicha elección. 0.25 puntos."
      ],
      "metadata": {
        "id": "9Ozk6Bf-fid4"
      }
    },
    {
      "cell_type": "markdown",
      "source": [
        "Para este problema de regresión voy a utilizar regresión linal implementada mediante la pesudoinversa, ya que con ese método el algoritmo obtiene el clasificador óptimo de menor error en la función de pérdida de regresión en un solo paso. Además, utilizando el mismos modelo voy transformar el problema realizando una transformación polinomial de las variables del conjutno de datos que obtendrá un nuevo espacio paramétrico del problema donde se aplicará el modelo de regresión lineal para tratar de obtener una predicción mejor en este nuevo espacio."
      ],
      "metadata": {
        "id": "-l76wu662SB7"
      }
    },
    {
      "cell_type": "markdown",
      "source": [
        "Regresión lineal puede ser implementado mediante el gradiente de descendiente GD o el gradiente de descenciente de SGD como muchos otro modelos que utilizan este algoritmo de aprendizaje para tratar de minimizar el error de la función de pérdida del modelo. Sin embargo, a diferencia de otros modelos que utilizan estos algoritmos, en regresión lineal se puede obtener el estimador con el error mínimo en un solo paso utilizando la propiedades de la matrices como la propiedad de las matrices de la descomposición en valores singualres. Gracias a esto se puede obtener mediante el cálculo de la inversa y multiplicaciónes de matrices el clasificador óptimo. Es por esto que el método de la pseudoinversa es el más utilizado ya que teóricamente, al obtener el error óptimo en entrnameiento, es el mejor método para obtener la hipótesis final comparando con Gradiente Descdendiente o SGD, aunque en la práctica, como el error de entrenameinto no representa directamente el error fuera de la muestra, y generlamente difieren en su valor, puede llegar a obtener peores resultados que los otros métodos.\n",
        "\n",
        "La clase de funciones $\\mathcal{H}$ del modelo de regresión lineal se basa en funciones lineales que son combinaciones lineales de las características de entrada aplicando unos pesos $w$ que son los parámetros que el modelo ajusta durante el aprendizaje. El valor obtenido como resultado de la combinación lineal es directamente la predicción que se calcula de la muestra. La clase de funciones del modelo de regresión lineal es:\n",
        "\n",
        "> $\\mathcal{H} = \\{ h_w|\n",
        "h_w(x) = w^tx, \\ para \\ w \\ fijado\\}$  \n",
        "\n",
        "donde el número de valores de $w$ dependerá del número de parámetros de cada muestra del conjunto de datos.\n",
        "\n",
        "\n",
        "\n"
      ],
      "metadata": {
        "id": "ibcURnUq7-mr"
      }
    },
    {
      "cell_type": "markdown",
      "source": [
        "#### <font color='blue'>3)  Si la base de datos define conjuntos de training y test, únalos en un solo conjunto y genere sus propios conjuntos. Describa y justifique el mecanismo de partición. 0.75 puntos."
      ],
      "metadata": {
        "id": "4LiijYn4fw_y"
      }
    },
    {
      "cell_type": "markdown",
      "source": [
        "En el apartado 1 ya se ha unido en un solo conjunto todos los datos y han sido separados en training y test con una distribución de 80% training y 20% test como se ha comentado en ese apartado. En el apartado 1) ya se ha explicado las ventajas e inconvenientes de utilizar distintas distribuciones para separar los datos en entrenamiento y test."
      ],
      "metadata": {
        "id": "B1MhOIdhWtbB"
      }
    },
    {
      "cell_type": "markdown",
      "source": [
        ">**V-Fold Cross Validation**"
      ],
      "metadata": {
        "id": "zLDrwKrr1NBV"
      }
    },
    {
      "cell_type": "markdown",
      "source": [
        "La técnica de validación cruzada con V-folds es un método utilizado para evaluar el rendimiento de un modelo de aprendizaje automático de manera más robusta y precisa. Permite utilizar todo el conjunto de datos disponible para entrenar y evaluar el modelo.Esta técnica se basa en dividir el conjunto de datos en V partes iguales (folds) donde cada uno actúa como conjunto de validación una vez, mientras que los subconjutnos restantes se utilizan como conjunto de entrenamiento para ajustar el modelo.Por lo tanto, el modelo se entrena V veces, y en cada vez se utiliza un subconjunto diferente como conjunto de validación. Al final de cada iteración, se obtiene una medida del error o de las métricas elegidas para evaluar el modelo y finalmente se ofrece como estimación final el promedio de las mediciones realizadas en todas las iteraciones.\n",
        "\n",
        "Al utilizar la técnica de V-fold cross-validation, se obtiene una evaluación más confiable del modelo, ya que se utiliza todo el conjunto de datos tanto para entrenar como para validar el modelo. Además, al repetir el proceso V veces con diferentes particiones del conjunto de datos, se reduce el impacto del sesgo en la estimación del rendimiento del modelo.\n",
        "\n",
        "Un valor común para el número de particiones es V = 10, pero puede variar dependiendo del tamaño del conjunto de datos y de la cantidad de datos disponibles. Valores más pequeños de V pueden dar lugar a una estimación menos precisa, mientras que valores más grandes pueden resultar en un coste computacional mayor.\n",
        "\n",
        "Incialmente traté de utilizar esta técnica de validación con los modelos elegidos, pero debido al alto coste computacional del modelo aplicado a los datos transformados polinomialmente, el tiempo necesario para evaluar diversos valores para el parámetro de regularización era demasiado y por tanto he decidido utilizar el error obtenido de entrenamiento para comparar los modelos y obtener la hipótesis final. Aunque la técnica de validación cruzada es más precisa para evaluar y comparar los modelos, al utilizar todo el conjunto de datos para entrenar, se utiliza una mayor cantidad de inforacmión del problema y por tanto generalmente se obtienen mejores resultados al entrenar el modelo. Utilizar el error de entrenamiento para comparar modelos es también una práctica válida ya que si se considera que la cantidad de muestras en el conjunto no es suficiente para obtener una buena generalización para el problema, utilizar un conjunto de muestras para validación esta restringiendo aún más el conjunto de datos y por tanto utilizar el conjunto entero para entrenamiento obtendrá mejores resultados partiendo de esta hipótesis."
      ],
      "metadata": {
        "id": "SjOHt9iwT1ax"
      }
    },
    {
      "cell_type": "markdown",
      "source": [
        "#### <font color='blue'>4)  Justifique todos los detalles del preprocesado de los datos (codificación, transformación, normalización, etc). Es decir, todas las manipulaciones sobre los datos iniciales que nos permitan fijar el conjunto de vectores de características que se usarán en el entrenamiento. 1 punto.  \n",
        "\n",
        "<font color='blue'>Nota: Las transformaciones no-lineales de las variables pueden definirse a partir de las potencias y\n",
        "productos de potencias de las variables originales, conjuntos de polinomios ortogonales, etc. Si se\n",
        "usan transformaciones no polinómicas de las variable como $log$, $\\sqrt{()}$, $sin$, etc, debe justificar el\n",
        "interés de las mismas."
      ],
      "metadata": {
        "id": "qJykJiQxf30a"
      }
    },
    {
      "cell_type": "markdown",
      "source": [
        ">**Escalado de los datos**"
      ],
      "metadata": {
        "id": "ap07PxDSyziV"
      }
    },
    {
      "cell_type": "markdown",
      "source": [
        "Como hemos analizado en el apartado 1), el conjutno tiene vairables cuyos valores se encunetran en escalas distintas, entonces para evitar que una característica domine sobre otras durante el ajuste del modelo voy a escalar el conjunto de datos. Como he explicado en el apartado 1) al analizar los máximos y mínimos, he visto que existían variables con valores negativos, y por tanto voy a utilizar la clase `StandardScaler` que escala los valores de las variables para que tengan media 0 y una desviación estándar de 1. De esta forma los valores pueden ser postivos, negativos y si había datos extremos, como en nuestro caso que hemos explicado en el apartado 1), podrán tener valores mayores en valor absoluto que 1. El mismo escalado que se aplica en entrenamiento tiene que aplicarse al conjunto de test y no se debe usar infromación del conjunto de test para realizar el escalado, por lo tanto utilizo el metodo `fit()` de `StandardScaler` con los datos de entrenamiento para realizar el mismo escalado, que se utiliza en entrenameinto con la infromación del conjunto de entrenameinto, con el conjunto de test.  \n"
      ],
      "metadata": {
        "id": "XIZz1LQ6qbLZ"
      }
    },
    {
      "cell_type": "code",
      "source": [
        "from sklearn.preprocessing import MinMaxScaler, StandardScaler\n",
        "# Escalado StandardScaler\n",
        "scaler = StandardScaler(\n",
        "    copy=True,  # No realizar una copia de los datos de entrada antes de escalar (por defecto  True)\n",
        "    with_mean=True,  # Centrar los datos alrededor de la media (por defecto True)\n",
        "    with_std=True  # Escalar los datos para tener varianza unitaria (por defecto True)\n",
        ")\n",
        "\n",
        "# Ajustar el escalador a los datos de entrenamiento\n",
        "scaler.fit(preproc_trainX)\n",
        "\n",
        "\n",
        "# Escalado Min-Max\n",
        "min_max_scaler = MinMaxScaler(\n",
        "    feature_range = (0,1), # Rango al que escalar los datos\n",
        "    copy = True # Evitar crear una copia de los datos y realizar el escalado directamente en los datos\n",
        ")\n",
        "\n",
        "#ajustar el escalador a los datos de entrenamiento\n",
        "min_max_scaler.fit(preproc_trainX)\n",
        "\n",
        "\n",
        "# Transformar los datos de entrenamiento y prueba\n",
        "preproc_trainX = scaler.transform(preproc_trainX)\n",
        "preproc_testX = scaler.transform(preproc_testX)"
      ],
      "metadata": {
        "id": "SJd2M6xUwnx8"
      },
      "execution_count": null,
      "outputs": []
    },
    {
      "cell_type": "code",
      "source": [
        "# Obtener el valor máximo y mínimo de cada columna en el conjunto de entrenamiento\n",
        "max_values = np.max(preproc_trainX, axis=0)\n",
        "min_values = np.min(preproc_trainX, axis=0)\n",
        "\n",
        "# Crear los nombres de las columnas\n",
        "column_names = np.arange(len(max_values))\n",
        "\n",
        "# Crear histograma de los valores máximos\n",
        "plt.bar(column_names, max_values)\n",
        "plt.xlabel('Columna')\n",
        "plt.ylabel('Valor máximo')\n",
        "plt.title('Valores máximos por columna')\n",
        "plt.show()\n",
        "\n",
        "# Crear histograma de los valores mínimos\n",
        "plt.bar(column_names, min_values)\n",
        "plt.xlabel('Columna')\n",
        "plt.ylabel('Valor mínimo')\n",
        "plt.title('Valores mínimos por columna')\n",
        "plt.show()"
      ],
      "metadata": {
        "colab": {
          "base_uri": "https://localhost:8080/",
          "height": 927
        },
        "outputId": "f7016cba-5466-4756-9dd1-de37e40b8123",
        "id": "E08-XAav1Ga4"
      },
      "execution_count": null,
      "outputs": [
        {
          "output_type": "display_data",
          "data": {
            "text/plain": [
              "<Figure size 640x480 with 1 Axes>"
            ],
            "image/png": "[encoded data removed]"
          },
          "metadata": {}
        },
        {
          "output_type": "display_data",
          "data": {
            "text/plain": [
              "<Figure size 640x480 with 1 Axes>"
            ],
            "image/png": "[encoded data removed]"
          },
          "metadata": {}
        }
      ]
    },
    {
      "cell_type": "markdown",
      "source": [
        "Como podemos observar en los nuevos histogramas de los valores máximos y mínimos, los datos han sido escalados, ya que los valores máximos de las variables no son tan extremos como antes del escalado."
      ],
      "metadata": {
        "id": "Vr_w9wd-y4UJ"
      }
    },
    {
      "cell_type": "markdown",
      "source": [
        ">**Outliers**\n"
      ],
      "metadata": {
        "id": "EPmRgc959bFw"
      }
    },
    {
      "cell_type": "markdown",
      "source": [
        "Los outliers, o valores atípicos, son observaciones o instancias que se alejan significativamente del resto de los datos en un conjunto de datos. Estos valores atípicos pueden aparecer debido a errores en la medición de los datos o cualquier fuente de ruido que afecte a algunas muestras en el conjunto de datos.Los outliers pueden tener un impacto significativo en el aprendizaje automático, ya que pueden transformar la distribución de los datos y afectar negativamente la calidad del modelo. Este tipo de muestras pueden introducir ruido en los datos e impedir que el modelo pueda separar las clases correctamente provocando una disminución en la precisión y el rendimiento general del clasificador.\n",
        "\n",
        "Una técnica comúnm para tratar de identificar y eliminar los outliers y así reducir su impacto en el aprendizaje automático es el Análisis de Componentes Principales (PCA). PCA es una técnica de reducción de dimensionalidad que busca transformar un conjunto de variables correlacionadas en un conjunto de nuevas variables no correlacionadas y de esta forma reducir la influencia de los outliers y ayudar a mejorar el rendimiento de los modelos.\n",
        "\n",
        "Los outliers pueden ser la principal fuente del error de un modelo pero trata de identificar y demostrar que una muestra se trata de un outlier es difícil y en muchos casos no se puede saber si la muestra es útil para el problema o se trata de ruido en los datos. Algunos valores extremos pueden ser muestras reales que el clasificador debe predecir y no necesariamente deben considerarse outliers. Por ejemplo, en el análisis de fraudes, los valores extremos pueden representar transacciones fraudulentas reales y no muestras generadas por ruido que no deben tenerse en cuenta. Es por esto que la clasificación de las muestras como outliers puede ser muy subjetivo y difícil de demostrar.\n",
        "\n",
        "En nuestro conjunto de datos, ya he identificado una muestra como un outlier debido a la incoherencia del valor de algunas de sus variables, como he explicado en el primer apartado. A parte, se podría aplicar alguna técnica de detección y eliminado de outliers pero debido a la subjetividad que requiere el clasificar datos como outliers y la complejidad del análisis de este tipo de datos para obtener unos reusltados decentes, he decidido no emplear PCA en este conjunto de datos y tratar de resolverlo a pesar de este posible problema que puede estar presente en el conjunto de datos."
      ],
      "metadata": {
        "id": "bH3k5RdM9pmp"
      }
    },
    {
      "cell_type": "markdown",
      "source": [
        ">**Transformación de los datos**"
      ],
      "metadata": {
        "id": "4fsAZWJoUZsl"
      }
    },
    {
      "cell_type": "markdown",
      "source": [
        "Como he comentado antes, a parte de utilizar el modelo de regresión lineal para tratar de resolver el problema utilizando directamente el conjunto de datos original (aplicando los procesos anteriores) también voy a realizar una transformación polinomial de segundo grado de las características para transformar el problema y obtener un nuevo espacio paramétrico ampliado donde también voy a emplear el modelo de regresión lineal. En este nuevo espacio paramétrico el conjunto de datos puede comportarse de manera distinta y tener distintas propiedades que, junto con el hecho de que al aumentar las carcterísticas el modelo se tiene mayor información del problema (obteniendo relacioens polinomiales de las características), pueden mejorar los resultados que el modelo puede llegar a obtener en el espacio paramétrico original.\n",
        "\n",
        "Las transformaciones utilizadas son multilicaciones no lineales de grado dos sobre las varaibles originales del conjunto de datos, de modo que finalemente se obtienen como variables del nuevo espacio las originales junto con las transformaciones. De este modo por ejemplo si el numero de variables fuese 2 se tendría la siguiente transformación:  \n",
        "\n",
        "$\\phi_2(x) = (1, x_1, x_2, x_1x_2, x^2_1, x^2_2)$\n",
        "\n",
        "Donde se han añadido la multiplicación de las dos variables y el cuadrado de cada uno de ellas"
      ],
      "metadata": {
        "id": "QfOKm9drUdPI"
      }
    },
    {
      "cell_type": "markdown",
      "source": [
        "#### <font color='blue'>5)  Justifique las métricas de error y la función de pérdida a usar. Discutir su idoneidad para el problema. 0.5 puntos."
      ],
      "metadata": {
        "id": "3QXdZX5DgM0c"
      }
    },
    {
      "cell_type": "markdown",
      "source": [
        ">**Métricas de Error**"
      ],
      "metadata": {
        "id": "n5lUkKiPN6qR"
      }
    },
    {
      "cell_type": "markdown",
      "source": [
        "Las métricas que voy a utilizar son:\n",
        "\n",
        "*   Error cuadrático medio (MSE): esta métrica mide el promedio de los errores al cuadrado entre las predicciones y los valores reales. Un valor más alto de MSE indica un mayor error en las predicciones.\n",
        "\n",
        "*   Error absoluto medio (MAE): esta métrcia calcula el promedio de los errores absolutos entre las predicciones y los valores reales. Al igual que MSE, un valor más alto de MAE indica un mayor error en las predicciones.\n",
        "\n",
        "*   R cuadrado (R2): esta métrica proporciona una medida de la calidad del ajuste del modelo. El valor de R2 está 0 y 1, donde 1 indica un ajuste perfecto del modelo y 0 indica que el modelo no se ha ajustado bien al problema y no sabe los motivos de la variabilidad de los datos y por tanto no predice las etiquetas con tanta precisión. Para calcular el valor de la métrcia se compara la suma de los cuadrados de las diferencias entre los valores reales y los valores predichos por el modelo con la suma de los cuadrados de las diferencias entre los valores reales y la media de los valores reales.\n",
        "\n",
        "Las métrcias MSE y MAE son métrcias comunes para evaluar el rendimiento global de problemas de regresión. Ofrecen un error que se obtiene directamente de las diferencias entres los valores estimados por el modelo y los valores reales de las muestras. y por tanto son un indicador directo de la eficacia del modelo. La métrica R2 se enfoca principalmente a evaluar la calidad del modelo a la hora de analizar el problema y obtener conclusiones de los datos, ya que esta métrica ayuda a determinar si el modelo es capaz de explicar la razón y los motivos de la variabilidad de los datos, y por tanto si consigue identificar esta variabilidad, el modelo será capaz de predecir correctamente las etiquetas de muestras del problema en general."
      ],
      "metadata": {
        "id": "3hrUjq-W5Dj_"
      }
    },
    {
      "cell_type": "markdown",
      "source": [
        ">**Función de Pérdida**"
      ],
      "metadata": {
        "id": "crdgvd2GR6Rc"
      }
    },
    {
      "cell_type": "markdown",
      "source": [
        "La función de pérdida utilizada en regresión lineal es el error cuadrático medio (MSE) que se calcula como:\n",
        ">$E_{in}(w) =\\frac{1}{N} \\sum_{n=1}^{N} (h_w(x_n) - y_n)^2= \\frac{1}{N} \\sum_{n=1}^{N} (w^Tx_n - y_n)^2$\n",
        "\n",
        "Esta fucnión de pérdida mide el promedio de los errores cuadrados entre las predicciones del modelo y los valores reales del objetivo. Como los errores se elevan al cuadrado, los valores más grandes se penalizan más que los valores más pequeños. Esta penalización proporciona una medida intuitiva de la calidad del ajuste del modelo, ya que los errores grandes contribuyen significativamente al valor total del MSE.  \n",
        "\n",
        "Debido a que el MSE eleva al cuadrado los errores, los errores más grandes tienen un impacto más significativo en el valor total del MSE. Esto significa que el modelo dará más importancia a reducir los errores grandes, lo que puede ser beneficioso en aplicaciones donde se debe penalizar los errores grandes y puede afectar a los valores del error al comparar modelos en problemas con algunos valores extremos o atípicos que pueden ser la principal fuente de error del modelo.\n",
        "\n",
        "En este caso, y en la mayoría de problemas de regresión, esta función de pérdida es útil para ofrecer una medida directa sobre el error del modelo en el conjunto de datos, aunque hay que tener en cuenta las consideraciones previas."
      ],
      "metadata": {
        "id": "ztm6qk_QR_TX"
      }
    },
    {
      "cell_type": "markdown",
      "source": [
        "#### <font color='blue'>6)  Discuta todos los parámetros y el tipo de regularización usada en el ajuste de los modelos seleccionados. Justificar la idoneidad de la regularización elegida. 1 punto."
      ],
      "metadata": {
        "id": "S4Lo3fC0g6Cv"
      }
    },
    {
      "cell_type": "markdown",
      "source": [
        ">**Regularización**"
      ],
      "metadata": {
        "id": "CS5zDuK-fFah"
      }
    },
    {
      "cell_type": "markdown",
      "source": [
        "La regularización L2 y la regularización L1 son dos técnicas de regularización en aprendizaje automático para evitar el sobreajuste de los modelos y ofrecer un ajuste del modelo con menos variabilidad descontrolada. Ambas se basas en aplicar unos parámetros de regularización sobre el modelo durante el entrenamiento.\n",
        "\n",
        "La regularización L2 (Ridge) tarata de penalizar los valores grandes de los coeficientes del modelo y tiende a reducirlos. Este tipo de regularización consigue que los coeficientes no nulos tienden a disminuir hacia cero, pero nunca se anulan por completo. Esto hace que la regularización L2 sea menos propensa a seleccionar características irrelevantes, anulando las importantes y por tanto sea más adecuada para conjuntos de datos con muchas características.\n",
        "\n",
        "La regularización L1 (Lasso) penaliza los valores grandes de los coeficientes y también tiende a reducirlos. Esta regularización puede anular completamente los coeficientes y convertirlos en cero, lo que implica que puede elegir las características que consider más relevantes y anular las que considera menos relevantes. Esto hace que la regularización L1 sea útil en situaciones en las que se desea realizar una selección de características, pero también hace que no sea adecuada para conjuntos de datos donde se piensa que todas o casi todas las características son relevantes.\n",
        "\n",
        "En este conjunto de datos, ya que existe un desequilibrio del conjunto al tener muestras concentradas en unos rangos de valores más que en otros, y como existen muestras con valores más extremos que el clasificador deber predecir también, ya que se tratan de artículos que han tenido más popularidad y por tanto han obtenido un número elevado de comparticiones, voy a utilizar la regularización L2 (Ridge) que no anula variables y por tanto tiene en consideración todas las variables del conjunto que pueden tener información necesaria para predecir correctamente este conjunto de datos con las características que acabo de mencionar."
      ],
      "metadata": {
        "id": "AWTA9MJUFq_1"
      }
    },
    {
      "cell_type": "markdown",
      "source": [
        ">**Regresión Lineal (Sin transformación de los datos)**"
      ],
      "metadata": {
        "id": "uggeNZVQbOn7"
      }
    },
    {
      "cell_type": "markdown",
      "source": [
        "Prámetros del modelo de Regresión Lineal empleando La pseudoinversa con regularización L2(Ridge) con la clase `Ridge`:\n",
        "\n",
        "*   Alpha: es el parámetro de regularización en la Regresión Logística con SGD. Controla la fuerza de regularización que se pretende usar, cuanto mayor es el valor alpha, más regularización se aplica.\n",
        "\n",
        "*   Max_iter: número máximo de iteraciones.(En este caso al usar pseudoinversa no es necesario)\n",
        "\n",
        "*   Random_state: establece la semilla para los números aleatorios generados para desordenar los datos.\n",
        "*   tol: tolerancia usada para el criterio de parada y convergencia del algoritmo. (En este caso al usar pseudoinversa no es necesario)\n",
        "*   solver: algoritmo de parendizaje para resolver el problema. Al utilizar 'svd' se indica que el algoritmo es el de la pseudoinversa."
      ],
      "metadata": {
        "id": "pBg7uzexdQ9z"
      }
    },
    {
      "cell_type": "markdown",
      "source": [
        ">**Regresión Lineal (Con transformación de los datos)**"
      ],
      "metadata": {
        "id": "kR7upCrfih_k"
      }
    },
    {
      "cell_type": "markdown",
      "source": [
        "El modelo utilizado es el mismo, regresión lineal, la unica diferencia es que en este caso el número de variables del conjunto de datos será significativamente mayor.\n",
        "\n",
        "Para realizar la transformación se usa la función `PolynomialFeatures` con los parámetros `degree = 2`, para establecer el grado de la transformacion poliniomial a 2 y `interaction_only = False` para determinar que no se excluyan las variables originales y se utilicen las variables nuevas transformadas junto con ls originales. Después se utiliza la función `make_pipeline` para enlazar la transformación con el modelo e incluir dentro de todo el proceso de aprendizaje y estimación de muestras la propia transformación. Esta última función se le pueden pasar como parámetros los estimadores que se pretenden encadenar, que en nuestro caso son la transformación y el modelo de regresión. Los datos se podrían haber transformado antes y después haber utilizado el modelo con los datos en vez de concatenar el proceso y así evitar transformar los datos varias veces, pero realizando expermientos he comprobado que el ahorro en tiempo es mínimo y por comodidad se puede utilizar de la forma que he explicado."
      ],
      "metadata": {
        "id": "CDcMSj_0ii-_"
      }
    },
    {
      "cell_type": "markdown",
      "source": [
        "#### <font color='blue'>7)  Selección de la mejor hipótesis para el problema. Discuta el enfoque seguido y el criterio de selección usado. ¿Cúal es su error $E_{out}$? 1 punto."
      ],
      "metadata": {
        "id": "wUknqHBtg8DP"
      }
    },
    {
      "cell_type": "markdown",
      "source": [
        "Tras probar con valores extremos he conseguido acotar los valores de cada hiperparámetro para poder mostrar sus resultados en una tabla y elegir los hiperparámetros con los que se obtiene un mejor modelo entrenado de Regresión logística.  \n",
        "\n",
        "En la tabla se representan las métricas que he comentado anteriormente junto con la función de pérdida, calculados a partir del modelo entrenado con todo el conjunto de entrenamiento."
      ],
      "metadata": {
        "id": "ibYVAlHHjUXm"
      }
    },
    {
      "cell_type": "markdown",
      "source": [
        "El único hiperparámetro a elegir en ambos casos es el parámnetro de regularización L2 (Ridge). La propia clase `Ridge` incluye la parametrización L2 por defecto y su constante de regularización se elgie a partir del parámetro `alpha`."
      ],
      "metadata": {
        "id": "Z6fvNZnUlwDb"
      }
    },
    {
      "cell_type": "markdown",
      "source": [
        ">**Regresión Lineal (Sin transformación de los datos)**"
      ],
      "metadata": {
        "id": "WRq62eW3lap3"
      }
    },
    {
      "cell_type": "code",
      "source": [
        "from sklearn.metrics import make_scorer,mean_squared_error,mean_absolute_error,r2_score\n",
        "from sklearn.linear_model import Ridge\n",
        "\n",
        "#Inicializar listas para guardar valores para la tabla\n",
        "alphaTabla = []\n",
        "mseTabla = []\n",
        "maeTabla = []\n",
        "r2Tabla = []\n",
        "\n",
        "#Ejecutar el algoritmo con valores distintos para el paramtero de regularización\n",
        "alphaValues = [0,0.00001,0.0001,0.001, 0.01, 0.1, 1,3,5,10,20]\n",
        "for alpha in alphaValues:\n",
        "\n",
        "  # Crear el modelo de regresión Ridge\n",
        "  ridge_model = Ridge(\n",
        "      alpha=alpha,  # Parámetro de regularización (1.0 por defecto)\n",
        "      max_iter=None,  # Número máximo de iteraciones (None por defecto)\n",
        "      tol=1e-3,  # Tolerancia para el criterio de parada (0.001 por defecto)\n",
        "      solver='svd',  # Algoritmo para resolver el problema ('auto' por defecto)\n",
        "      random_state=1  # Semilla para la generación de números aleatorios\n",
        "  )\n",
        "\n",
        "  # Entrenar el modelo con todos los datos de entrenamiento\n",
        "  ridge_model.fit(preproc_trainX, trainY)\n",
        "\n",
        "  # Obtener las predicciones del modelo utilizando todos los datos de entrenamiento\n",
        "  y_pred = ridge_model.predict(preproc_trainX)\n",
        "\n",
        "  #guardar datos para la tabla\n",
        "  alphaTabla.append(alpha)\n",
        "  #obtener y guardar los datos de los errores\n",
        "  mseTabla.append(mean_squared_error(trainY, y_pred))\n",
        "  maeTabla.append(mean_absolute_error(trainY, y_pred))\n",
        "  r2Tabla.append(r2_score(trainY, y_pred))\n",
        "\n",
        "\n",
        "#Crear DataFrame y mostrarlo\n",
        "tableFrame = pd.DataFrame({'Parámetro de regularización': alphaTabla,'Error de entrenamiento (MSE)':mseTabla,\n",
        "                           'MAE':maeTabla,'R2': r2Tabla})\n",
        "display(tableFrame)"
      ],
      "metadata": {
        "colab": {
          "base_uri": "https://localhost:8080/",
          "height": 394
        },
        "id": "hiq1tUZzbOPJ",
        "outputId": "95a458f7-d16b-4f8b-82be-943522e91121"
      },
      "execution_count": null,
      "outputs": [
        {
          "output_type": "display_data",
          "data": {
            "text/plain": [
              "    Parámetro de regularización  Error de entrenamiento (MSE)          MAE  \\\n",
              "0                       0.00000                  1.487993e+08  3104.964736   \n",
              "1                       0.00001                  1.488089e+08  3105.051789   \n",
              "2                       0.00010                  1.488089e+08  3105.051787   \n",
              "3                       0.00100                  1.488089e+08  3105.051767   \n",
              "4                       0.01000                  1.488089e+08  3105.051570   \n",
              "5                       0.10000                  1.488089e+08  3105.049592   \n",
              "6                       1.00000                  1.488089e+08  3105.029897   \n",
              "7                       3.00000                  1.488089e+08  3104.986699   \n",
              "8                       5.00000                  1.488090e+08  3104.944161   \n",
              "9                      10.00000                  1.488090e+08  3104.839399   \n",
              "10                     20.00000                  1.488090e+08  3104.636158   \n",
              "\n",
              "          R2  \n",
              "0   0.022003  \n",
              "1   0.021940  \n",
              "2   0.021940  \n",
              "3   0.021940  \n",
              "4   0.021940  \n",
              "5   0.021940  \n",
              "6   0.021940  \n",
              "7   0.021940  \n",
              "8   0.021940  \n",
              "9   0.021939  \n",
              "10  0.021939  "
            ],
            "text/html": [
              "\n",
              "  <div id=\"df-df40a861-3c0d-46a1-94cc-c6328f717427\">\n",
              "    <div class=\"colab-df-container\">\n",
              "      <div>\n",
              "<style scoped>\n",
              "    .dataframe tbody tr th:only-of-type {\n",
              "        vertical-align: middle;\n",
              "    }\n",
              "\n",
              "    .dataframe tbody tr th {\n",
              "        vertical-align: top;\n",
              "    }\n",
              "\n",
              "    .dataframe thead th {\n",
              "        text-align: right;\n",
              "    }\n",
              "</style>\n",
              "<table border=\"1\" class=\"dataframe\">\n",
              "  <thead>\n",
              "    <tr style=\"text-align: right;\">\n",
              "      <th></th>\n",
              "      <th>Parámetro de regularización</th>\n",
              "      <th>Error de entrenamiento (MSE)</th>\n",
              "      <th>MAE</th>\n",
              "      <th>R2</th>\n",
              "    </tr>\n",
              "  </thead>\n",
              "  <tbody>\n",
              "    <tr>\n",
              "      <th>0</th>\n",
              "      <td>0.00000</td>\n",
              "      <td>1.487993e+08</td>\n",
              "      <td>3104.964736</td>\n",
              "      <td>0.022003</td>\n",
              "    </tr>\n",
              "    <tr>\n",
              "      <th>1</th>\n",
              "      <td>0.00001</td>\n",
              "      <td>1.488089e+08</td>\n",
              "      <td>3105.051789</td>\n",
              "      <td>0.021940</td>\n",
              "    </tr>\n",
              "    <tr>\n",
              "      <th>2</th>\n",
              "      <td>0.00010</td>\n",
              "      <td>1.488089e+08</td>\n",
              "      <td>3105.051787</td>\n",
              "      <td>0.021940</td>\n",
              "    </tr>\n",
              "    <tr>\n",
              "      <th>3</th>\n",
              "      <td>0.00100</td>\n",
              "      <td>1.488089e+08</td>\n",
              "      <td>3105.051767</td>\n",
              "      <td>0.021940</td>\n",
              "    </tr>\n",
              "    <tr>\n",
              "      <th>4</th>\n",
              "      <td>0.01000</td>\n",
              "      <td>1.488089e+08</td>\n",
              "      <td>3105.051570</td>\n",
              "      <td>0.021940</td>\n",
              "    </tr>\n",
              "    <tr>\n",
              "      <th>5</th>\n",
              "      <td>0.10000</td>\n",
              "      <td>1.488089e+08</td>\n",
              "      <td>3105.049592</td>\n",
              "      <td>0.021940</td>\n",
              "    </tr>\n",
              "    <tr>\n",
              "      <th>6</th>\n",
              "      <td>1.00000</td>\n",
              "      <td>1.488089e+08</td>\n",
              "      <td>3105.029897</td>\n",
              "      <td>0.021940</td>\n",
              "    </tr>\n",
              "    <tr>\n",
              "      <th>7</th>\n",
              "      <td>3.00000</td>\n",
              "      <td>1.488089e+08</td>\n",
              "      <td>3104.986699</td>\n",
              "      <td>0.021940</td>\n",
              "    </tr>\n",
              "    <tr>\n",
              "      <th>8</th>\n",
              "      <td>5.00000</td>\n",
              "      <td>1.488090e+08</td>\n",
              "      <td>3104.944161</td>\n",
              "      <td>0.021940</td>\n",
              "    </tr>\n",
              "    <tr>\n",
              "      <th>9</th>\n",
              "      <td>10.00000</td>\n",
              "      <td>1.488090e+08</td>\n",
              "      <td>3104.839399</td>\n",
              "      <td>0.021939</td>\n",
              "    </tr>\n",
              "    <tr>\n",
              "      <th>10</th>\n",
              "      <td>20.00000</td>\n",
              "      <td>1.488090e+08</td>\n",
              "      <td>3104.636158</td>\n",
              "      <td>0.021939</td>\n",
              "    </tr>\n",
              "  </tbody>\n",
              "</table>\n",
              "</div>\n",
              "      <button class=\"colab-df-convert\" onclick=\"convertToInteractive('df-df40a861-3c0d-46a1-94cc-c6328f717427')\"\n",
              "              title=\"Convert this dataframe to an interactive table.\"\n",
              "              style=\"display:none;\">\n",
              "        \n",
              "  <svg xmlns=\"http://www.w3.org/2000/svg\" height=\"24px\"viewBox=\"0 0 24 24\"\n",
              "       width=\"24px\">\n",
              "    <path d=\"M0 0h24v24H0V0z\" fill=\"none\"/>\n",
              "    <path d=\"M18.56 5.44l.94 2.06.94-2.06 2.06-.94-2.06-.94-.94-2.06-.94 2.06-2.06.94zm-11 1L8.5 8.5l.94-2.06 2.06-.94-2.06-.94L8.5 2.5l-.94 2.06-2.06.94zm10 10l.94 2.06.94-2.06 2.06-.94-2.06-.94-.94-2.06-.94 2.06-2.06.94z\"/><path d=\"M17.41 7.96l-1.37-1.37c-.4-.4-.92-.59-1.43-.59-.52 0-1.04.2-1.43.59L10.3 9.45l-7.72 7.72c-.78.78-.78 2.05 0 2.83L4 21.41c.39.39.9.59 1.41.59.51 0 1.02-.2 1.41-.59l7.78-7.78 2.81-2.81c.8-.78.8-2.07 0-2.86zM5.41 20L4 18.59l7.72-7.72 1.47 1.35L5.41 20z\"/>\n",
              "  </svg>\n",
              "      </button>\n",
              "      \n",
              "  <style>\n",
              "    .colab-df-container {\n",
              "      display:flex;\n",
              "      flex-wrap:wrap;\n",
              "      gap: 12px;\n",
              "    }\n",
              "\n",
              "    .colab-df-convert {\n",
              "      background-color: #E8F0FE;\n",
              "      border: none;\n",
              "      border-radius: 50%;\n",
              "      cursor: pointer;\n",
              "      display: none;\n",
              "      fill: #1967D2;\n",
              "      height: 32px;\n",
              "      padding: 0 0 0 0;\n",
              "      width: 32px;\n",
              "    }\n",
              "\n",
              "    .colab-df-convert:hover {\n",
              "      background-color: #E2EBFA;\n",
              "      box-shadow: 0px 1px 2px rgba(60, 64, 67, 0.3), 0px 1px 3px 1px rgba(60, 64, 67, 0.15);\n",
              "      fill: #174EA6;\n",
              "    }\n",
              "\n",
              "    [theme=dark] .colab-df-convert {\n",
              "      background-color: #3B4455;\n",
              "      fill: #D2E3FC;\n",
              "    }\n",
              "\n",
              "    [theme=dark] .colab-df-convert:hover {\n",
              "      background-color: #434B5C;\n",
              "      box-shadow: 0px 1px 3px 1px rgba(0, 0, 0, 0.15);\n",
              "      filter: drop-shadow(0px 1px 2px rgba(0, 0, 0, 0.3));\n",
              "      fill: #FFFFFF;\n",
              "    }\n",
              "  </style>\n",
              "\n",
              "      <script>\n",
              "        const buttonEl =\n",
              "          document.querySelector('#df-df40a861-3c0d-46a1-94cc-c6328f717427 button.colab-df-convert');\n",
              "        buttonEl.style.display =\n",
              "          google.colab.kernel.accessAllowed ? 'block' : 'none';\n",
              "\n",
              "        async function convertToInteractive(key) {\n",
              "          const element = document.querySelector('#df-df40a861-3c0d-46a1-94cc-c6328f717427');\n",
              "          const dataTable =\n",
              "            await google.colab.kernel.invokeFunction('convertToInteractive',\n",
              "                                                     [key], {});\n",
              "          if (!dataTable) return;\n",
              "\n",
              "          const docLinkHtml = 'Like what you see? Visit the ' +\n",
              "            '<a target=\"_blank\" href=https://colab.research.google.com/notebooks/data_table.ipynb>data table notebook</a>'\n",
              "            + ' to learn more about interactive tables.';\n",
              "          element.innerHTML = '';\n",
              "          dataTable['output_type'] = 'display_data';\n",
              "          await google.colab.output.renderOutput(dataTable, element);\n",
              "          const docLink = document.createElement('div');\n",
              "          docLink.innerHTML = docLinkHtml;\n",
              "          element.appendChild(docLink);\n",
              "        }\n",
              "      </script>\n",
              "    </div>\n",
              "  </div>\n",
              "  "
            ]
          },
          "metadata": {}
        }
      ]
    },
    {
      "cell_type": "markdown",
      "source": [
        "Podemos observar en la tabla que los resultados son muy parecidos entre sí aunque se observa una diferencia mínima en la métrcia R2 en el caso sin regularización. Por lo tanto el modelo de regresión lineal con mejores resultados sería el modelo ajustado sin regularización, a aprtir de estos datos"
      ],
      "metadata": {
        "id": "LQnbHY-Sm33Z"
      }
    },
    {
      "cell_type": "markdown",
      "source": [
        ">**Regresión Lineal (Con transformación de los datos)**"
      ],
      "metadata": {
        "id": "W7ZhNuNjmQpU"
      }
    },
    {
      "cell_type": "code",
      "source": [
        "from sklearn.metrics import make_scorer,mean_squared_error,mean_absolute_error,r2_score\n",
        "from sklearn.linear_model import Ridge\n",
        "from sklearn.pipeline import make_pipeline\n",
        "from sklearn.preprocessing import PolynomialFeatures\n",
        "\n",
        "#Inicializar listas para guardar valores para la tabla\n",
        "alphaTabla = []\n",
        "mseTabla = []\n",
        "maeTabla = []\n",
        "r2Tabla = []\n",
        "\n",
        "#Ejecutar el algoritmo con valores distintos para el paramtero de regularización\n",
        "alphaValues = [0, 0.01, 0.1, 1]\n",
        "for alpha in alphaValues:\n",
        "\n",
        "  # Crear el modelo de regresión Ridge\n",
        "  ridge_model = Ridge(\n",
        "      alpha=alpha,  # Parámetro de regularización (1.0 por defecto)\n",
        "      copy_X=True,  # Copiar los datos de entrada (True por defecto)\n",
        "      max_iter=None,  # Número máximo de iteraciones (None por defecto)\n",
        "      tol=1e-3,  # Tolerancia para el criterio de parada (0.001 por defecto)\n",
        "      solver='svd',  # Algoritmo para resolver el problema ('auto' por defecto)\n",
        "      random_state=None  # Semilla para la generación de números aleatorios\n",
        "  )\n",
        "  # Crear el modelo de Regresión Polinómica de grado 2\n",
        "  polynomial_model = make_pipeline(\n",
        "      PolynomialFeatures(\n",
        "          degree=2, #grado de la transformacion\n",
        "          interaction_only = False # Determinar si se excluyen las variables originales\n",
        "          ), ridge_model)\n",
        "\n",
        "  # Entrenar el modelo con todos los datos de entrenamiento\n",
        "  polynomial_model.fit(preproc_trainX, trainY)\n",
        "\n",
        "  # Obtener las predicciones del modelo utilizando todos los datos de entrenamiento\n",
        "  y_pred = polynomial_model.predict(preproc_trainX)\n",
        "\n",
        "  #guardar datos para la tabla\n",
        "  alphaTabla.append(alpha)\n",
        "  #obtener y guardar los datos de los errores\n",
        "  mseTabla.append(mean_squared_error(trainY, y_pred))\n",
        "  maeTabla.append(mean_absolute_error(trainY, y_pred))\n",
        "  r2Tabla.append(r2_score(trainY, y_pred))\n",
        "\n",
        "\n",
        "#Crear DataFrame y mostrarlo\n",
        "tableFrame = pd.DataFrame({'Parámetro de regularización': alphaTabla,'Error de entrenamiento (MSE) con el conjunto de entrenamiento':mseTabla,\n",
        "                           'MAE':maeTabla,'R2': r2Tabla})\n",
        "display(tableFrame)"
      ],
      "metadata": {
        "colab": {
          "base_uri": "https://localhost:8080/",
          "height": 175
        },
        "outputId": "0775c6dd-812f-40e7-98ea-b9d612ff5776",
        "id": "dbocXnjViYCd"
      },
      "execution_count": null,
      "outputs": [
        {
          "output_type": "display_data",
          "data": {
            "text/plain": [
              "   Parámetro de regularización  \\\n",
              "0                         0.00   \n",
              "1                         0.01   \n",
              "2                         0.10   \n",
              "3                         1.00   \n",
              "\n",
              "   Error de entrenamiento (MSE) con el conjunto de entrenamiento          MAE  \\\n",
              "0                                       1.384178e+08              4332.746295   \n",
              "1                                       1.325317e+08              3682.328939   \n",
              "2                                       1.325317e+08              3682.136420   \n",
              "3                                       1.325337e+08              3680.409678   \n",
              "\n",
              "         R2  \n",
              "0  0.090236  \n",
              "1  0.128924  \n",
              "2  0.128923  \n",
              "3  0.128910  "
            ],
            "text/html": [
              "\n",
              "  <div id=\"df-6187cc94-5687-4906-b1ed-91ba5dad99d2\">\n",
              "    <div class=\"colab-df-container\">\n",
              "      <div>\n",
              "<style scoped>\n",
              "    .dataframe tbody tr th:only-of-type {\n",
              "        vertical-align: middle;\n",
              "    }\n",
              "\n",
              "    .dataframe tbody tr th {\n",
              "        vertical-align: top;\n",
              "    }\n",
              "\n",
              "    .dataframe thead th {\n",
              "        text-align: right;\n",
              "    }\n",
              "</style>\n",
              "<table border=\"1\" class=\"dataframe\">\n",
              "  <thead>\n",
              "    <tr style=\"text-align: right;\">\n",
              "      <th></th>\n",
              "      <th>Parámetro de regularización</th>\n",
              "      <th>Error de entrenamiento (MSE) con el conjunto de entrenamiento</th>\n",
              "      <th>MAE</th>\n",
              "      <th>R2</th>\n",
              "    </tr>\n",
              "  </thead>\n",
              "  <tbody>\n",
              "    <tr>\n",
              "      <th>0</th>\n",
              "      <td>0.00</td>\n",
              "      <td>1.384178e+08</td>\n",
              "      <td>4332.746295</td>\n",
              "      <td>0.090236</td>\n",
              "    </tr>\n",
              "    <tr>\n",
              "      <th>1</th>\n",
              "      <td>0.01</td>\n",
              "      <td>1.325317e+08</td>\n",
              "      <td>3682.328939</td>\n",
              "      <td>0.128924</td>\n",
              "    </tr>\n",
              "    <tr>\n",
              "      <th>2</th>\n",
              "      <td>0.10</td>\n",
              "      <td>1.325317e+08</td>\n",
              "      <td>3682.136420</td>\n",
              "      <td>0.128923</td>\n",
              "    </tr>\n",
              "    <tr>\n",
              "      <th>3</th>\n",
              "      <td>1.00</td>\n",
              "      <td>1.325337e+08</td>\n",
              "      <td>3680.409678</td>\n",
              "      <td>0.128910</td>\n",
              "    </tr>\n",
              "  </tbody>\n",
              "</table>\n",
              "</div>\n",
              "      <button class=\"colab-df-convert\" onclick=\"convertToInteractive('df-6187cc94-5687-4906-b1ed-91ba5dad99d2')\"\n",
              "              title=\"Convert this dataframe to an interactive table.\"\n",
              "              style=\"display:none;\">\n",
              "        \n",
              "  <svg xmlns=\"http://www.w3.org/2000/svg\" height=\"24px\"viewBox=\"0 0 24 24\"\n",
              "       width=\"24px\">\n",
              "    <path d=\"M0 0h24v24H0V0z\" fill=\"none\"/>\n",
              "    <path d=\"M18.56 5.44l.94 2.06.94-2.06 2.06-.94-2.06-.94-.94-2.06-.94 2.06-2.06.94zm-11 1L8.5 8.5l.94-2.06 2.06-.94-2.06-.94L8.5 2.5l-.94 2.06-2.06.94zm10 10l.94 2.06.94-2.06 2.06-.94-2.06-.94-.94-2.06-.94 2.06-2.06.94z\"/><path d=\"M17.41 7.96l-1.37-1.37c-.4-.4-.92-.59-1.43-.59-.52 0-1.04.2-1.43.59L10.3 9.45l-7.72 7.72c-.78.78-.78 2.05 0 2.83L4 21.41c.39.39.9.59 1.41.59.51 0 1.02-.2 1.41-.59l7.78-7.78 2.81-2.81c.8-.78.8-2.07 0-2.86zM5.41 20L4 18.59l7.72-7.72 1.47 1.35L5.41 20z\"/>\n",
              "  </svg>\n",
              "      </button>\n",
              "      \n",
              "  <style>\n",
              "    .colab-df-container {\n",
              "      display:flex;\n",
              "      flex-wrap:wrap;\n",
              "      gap: 12px;\n",
              "    }\n",
              "\n",
              "    .colab-df-convert {\n",
              "      background-color: #E8F0FE;\n",
              "      border: none;\n",
              "      border-radius: 50%;\n",
              "      cursor: pointer;\n",
              "      display: none;\n",
              "      fill: #1967D2;\n",
              "      height: 32px;\n",
              "      padding: 0 0 0 0;\n",
              "      width: 32px;\n",
              "    }\n",
              "\n",
              "    .colab-df-convert:hover {\n",
              "      background-color: #E2EBFA;\n",
              "      box-shadow: 0px 1px 2px rgba(60, 64, 67, 0.3), 0px 1px 3px 1px rgba(60, 64, 67, 0.15);\n",
              "      fill: #174EA6;\n",
              "    }\n",
              "\n",
              "    [theme=dark] .colab-df-convert {\n",
              "      background-color: #3B4455;\n",
              "      fill: #D2E3FC;\n",
              "    }\n",
              "\n",
              "    [theme=dark] .colab-df-convert:hover {\n",
              "      background-color: #434B5C;\n",
              "      box-shadow: 0px 1px 3px 1px rgba(0, 0, 0, 0.15);\n",
              "      filter: drop-shadow(0px 1px 2px rgba(0, 0, 0, 0.3));\n",
              "      fill: #FFFFFF;\n",
              "    }\n",
              "  </style>\n",
              "\n",
              "      <script>\n",
              "        const buttonEl =\n",
              "          document.querySelector('#df-6187cc94-5687-4906-b1ed-91ba5dad99d2 button.colab-df-convert');\n",
              "        buttonEl.style.display =\n",
              "          google.colab.kernel.accessAllowed ? 'block' : 'none';\n",
              "\n",
              "        async function convertToInteractive(key) {\n",
              "          const element = document.querySelector('#df-6187cc94-5687-4906-b1ed-91ba5dad99d2');\n",
              "          const dataTable =\n",
              "            await google.colab.kernel.invokeFunction('convertToInteractive',\n",
              "                                                     [key], {});\n",
              "          if (!dataTable) return;\n",
              "\n",
              "          const docLinkHtml = 'Like what you see? Visit the ' +\n",
              "            '<a target=\"_blank\" href=https://colab.research.google.com/notebooks/data_table.ipynb>data table notebook</a>'\n",
              "            + ' to learn more about interactive tables.';\n",
              "          element.innerHTML = '';\n",
              "          dataTable['output_type'] = 'display_data';\n",
              "          await google.colab.output.renderOutput(dataTable, element);\n",
              "          const docLink = document.createElement('div');\n",
              "          docLink.innerHTML = docLinkHtml;\n",
              "          element.appendChild(docLink);\n",
              "        }\n",
              "      </script>\n",
              "    </div>\n",
              "  </div>\n",
              "  "
            ]
          },
          "metadata": {}
        }
      ]
    },
    {
      "cell_type": "markdown",
      "source": [
        "Podemos observar que el modelo sin regularización obtiene unos resultados peores en las métricas que aplicando la regularización, y el resto de modelos con distintos parámetros de regularización son muy parecidos, por lo tanto voy a elegir la constante de parametrización con la que se obtiene un menor error cuadrático medio que es con la constante $alpha = 0.01$, aunque la diferencia es mínima."
      ],
      "metadata": {
        "id": "UwYrO8DLkSyU"
      }
    },
    {
      "cell_type": "markdown",
      "source": [
        "Comparando ambos casos, se puede observar que el modelo con a transformación obtiene unos mejores resultados en las métricas por tanto voy a utilizar el modelo escogido con la transformación como hipótesis final."
      ],
      "metadata": {
        "id": "fu15zBw6nECP"
      }
    },
    {
      "cell_type": "markdown",
      "source": [
        "Por lo tanto ahora vamos a utilizar el conjunto de datos de test para evaluar el modelo elegido y estimar el error $E_{out}$ final del modelo:"
      ],
      "metadata": {
        "id": "U5yIE3xAFL9g"
      }
    },
    {
      "cell_type": "code",
      "source": [
        "alpha = 0.01\n",
        "# Crear el modelo de regresión Ridge\n",
        "ridge_model = Ridge(\n",
        "    alpha=alpha,  # Parámetro de regularización (1.0 por defecto)\n",
        "    copy_X=True,  # Copiar los datos de entrada (True por defecto)\n",
        "    max_iter=None,  # Número máximo de iteraciones (None por defecto)\n",
        "    tol=1e-3,  # Tolerancia para el criterio de parada (0.001 por defecto)\n",
        "    solver='svd',  # Algoritmo para resolver el problema ('auto' por defecto)\n",
        "    random_state=None  # Semilla para la generación de números aleatorios\n",
        ")\n",
        "# Crear el modelo de Regresión Polinómica de grado 2\n",
        "polynomial_model = make_pipeline(\n",
        "    PolynomialFeatures(\n",
        "        degree=2, #grado de la transformacion\n",
        "        interaction_only = False # Determinar si se excluyen las variables originales\n",
        "        ), ridge_model)\n",
        "\n",
        "# Entrenar el modelo con todos los datos de entrenamiento\n",
        "polynomial_model.fit(preproc_trainX, trainY)\n",
        "\n",
        "# Obtener las predicciones del modelo utilizando todos los datos de entrenamiento\n",
        "y_pred = polynomial_model.predict(preproc_trainX)\n",
        "\n",
        "# Imprimir los resultados\n",
        "print(\"Error en entrenameinto (MSE):\", mean_squared_error(trainY, y_pred))\n",
        "print(\"MAE en entrenameinto:\", mean_absolute_error(trainY, y_pred))\n",
        "print(\"R2 en entrenameinto:\", r2_score(trainY, y_pred))"
      ],
      "metadata": {
        "id": "fDSEl0BangGr",
        "colab": {
          "base_uri": "https://localhost:8080/"
        },
        "outputId": "2a4c14aa-33d6-477f-aefb-4627a2be3254"
      },
      "execution_count": null,
      "outputs": [
        {
          "output_type": "stream",
          "name": "stdout",
          "text": [
            "Error en entrenameinto (MSE): 132531650.37648459\n",
            "MAE en entrenameinto: 3682.3289392074403\n",
            "R2 en entrenameinto: 0.1289236128974851\n"
          ]
        }
      ]
    },
    {
      "cell_type": "code",
      "source": [
        "# Obtener las predicciones del modelo utilizando todos los datos de test\n",
        "y_pred = polynomial_model.predict(preproc_testX)\n",
        "\n",
        "# Imprimir los resultados\n",
        "print(\"Error en test (MSE):\", mean_squared_error(testY, y_pred))\n",
        "print(\"MAE en test:\", mean_absolute_error(testY, y_pred))\n",
        "print(\"R2 en test:\", r2_score(testY, y_pred))"
      ],
      "metadata": {
        "colab": {
          "base_uri": "https://localhost:8080/"
        },
        "id": "UbBvQ73bo4Wa",
        "outputId": "33051de8-647d-4069-ee3f-039aa8d3340d"
      },
      "execution_count": null,
      "outputs": [
        {
          "output_type": "stream",
          "name": "stdout",
          "text": [
            "Error en test (MSE): 162800761.2465369\n",
            "MAE en test: 4152.805512048438\n",
            "R2 en test: -1.4178479706753864\n"
          ]
        }
      ]
    },
    {
      "cell_type": "markdown",
      "source": [
        "Como podemos observar, los resultados del error y las métricas en test se alejan de los resultados en entrenamiento, y esto puede ser por diversos motivos. Un motivo principal, que también puede que haya influido en obtener unos valores de las métricas tan elevados puede ser que el preprocesamiento de los datos que hemos realizado no haya sido suficiente y existan outliers o variables en el conjunto de datos que perjudican el ajuste y aprendizaje del modelo. Otro motivo por el cual los resultados en entrenamiento difieran de los obtenidos en test puede ser el uso del conjunto de muestras de entrenamiento completo para realizar el entrenameinto del modelo y no utilizar la técnica de validación cruzada para obtener una error y una evaluación del modelo más precisa y que se ajuste más a la realidad. Si se realizase un análisis mas exhaustivo sobre estos problemas para tratar de aplicar alguna técnica de preprocesado es posible que se obtuviesen mejores resultados."
      ],
      "metadata": {
        "id": "nm6FHjThpx9t"
      }
    },
    {
      "cell_type": "markdown",
      "source": [
        "#### <font color='blue'>8)  Construya las curvas de aprendizaje del modelo, y discuta la calidad del ajuste obtenido a la vista de la conducta de dichas curvas. 0.5 puntos."
      ],
      "metadata": {
        "id": "3R044TTvg9Zf"
      }
    },
    {
      "cell_type": "markdown",
      "source": [
        "Voy a crear las curvas de aprendizaje del modelo elegido separando de nuevo el conjunto de entrenamiento en un nuevo conjunto de validación del 20% y otro conjunto de entrenamiento del 80%, de forma parecida a como se hizo con el conjunto total de datos. Después voy a entrenar el modelo con un conjunto de datos inicialmente pequeño y obtengo el error de validación junto con el de entrenamiento, y cada iteración repito lo mismo pero con un sunconjunto de datos mayor obtenido del conjunto de entrenamiento hasta utilizar el conjunto de datos total. Finalmente se crear las curvas de los errores $E_{in}$ de entrenamiento y $E_{out}$ estimado a partid del error obtenido del conjunto de validación."
      ],
      "metadata": {
        "id": "vsbn-BmXJTYc"
      }
    },
    {
      "cell_type": "markdown",
      "source": [
        "Debido al coste computacional tan elevado de aplicar la transformación y ajustar el modelo con los datos transformados, el tiempo necesario para crear las curvas de aprendizaje con los datostransformados es demasiado, por lo tanto, ya que se trata del mismo modelo pero simplemente transformando los datos antes de ajustar, voy a mostrar las curvas de aprendizaje del modelo sin realziar la transformación de los datos."
      ],
      "metadata": {
        "id": "IKd1y8qHvGXj"
      }
    },
    {
      "cell_type": "code",
      "source": [
        "alpha = 0.01\n",
        "# Crear el modelo de regresión Ridge\n",
        "ridge_model_Curvas = Ridge(\n",
        "    alpha=alpha,  # Parámetro de regularización (1.0 por defecto)\n",
        "    copy_X=True,  # Copiar los datos de entrada (True por defecto)\n",
        "    max_iter=None,  # Número máximo de iteraciones (None por defecto)\n",
        "    tol=1e-3,  # Tolerancia para el criterio de parada (0.001 por defecto)\n",
        "    solver='svd',  # Algoritmo para resolver el problema ('auto' por defecto)\n",
        "    random_state=None  # Semilla para la generación de números aleatorios\n",
        ")\n",
        "\n",
        "np.random.seed(1)\n",
        "trainPortion = 0.8 #porcentaje de train, el porcentaje de validacion será la resta de 1 menos el porcentaje de train\n",
        "\n",
        "indexesData = np.arange(len(trainY)) #Indices del conjunto de muestras\n",
        "\n",
        "np.random.shuffle(indexesData) #Desordenar indices de las muestras\n",
        "numberTrain = round(len(indexesData)*trainPortion) #numero de muestras para train\n",
        "trainIndexes = indexesData[:numberTrain]\n",
        "valIndexes = indexesData[numberTrain:]\n",
        "\n",
        "E_in = []\n",
        "E_out = []\n",
        "ejeX = []\n",
        "numiters = 50\n",
        "for i in range(1,numiters):\n",
        "  ejeX.append(i*len(trainIndexes)//numiters)\n",
        "  # Entrenar el modelo con los datos de entrenamiento\n",
        "  ridge_model_Curvas.fit(preproc_trainX[trainIndexes[:i*len(trainIndexes)//numiters]], trainY[trainIndexes[:i*len(trainIndexes)//numiters]])\n",
        "  # Obtener error en entrenamiento\n",
        "  y_pred = ridge_model_Curvas.predict(preproc_trainX[trainIndexes[:i*len(trainIndexes)//numiters]])\n",
        "  E_in.append(mean_squared_error(trainY[trainIndexes[:i*len(trainIndexes)//numiters]], y_pred))\n",
        "  # Obtener error en validación\n",
        "  y_pred = ridge_model_Curvas.predict(preproc_trainX[valIndexes])\n",
        "  E_out.append(mean_squared_error(trainY[valIndexes], y_pred))\n",
        "\n",
        "\n",
        "plt.figure()\n",
        "plt.title(\"Curvas de Aprendizaje\")\n",
        "plt.xlabel(\"Tamaño del conjunto de entrenamiento\")\n",
        "plt.ylabel(\"Error (MSE)\")\n",
        "plt.plot(ejeX, E_out, 'r',label=r'$E_{out}$')\n",
        "plt.plot(ejeX, E_in, 'b',label=r'$E_{in}$')\n",
        "\n",
        "plt.legend(fontsize = 12) # poner el tamaño de la leyenda como en el resultado dado\n",
        "plt.grid(visible=True,linewidth=0.2) # poner la cuadricula con el grosor del resultado dado\n",
        "\n",
        "plt.show()"
      ],
      "metadata": {
        "id": "MaV_TyM8InrF",
        "colab": {
          "base_uri": "https://localhost:8080/",
          "height": 472
        },
        "outputId": "fbab9f40-c5b5-44a6-887a-c6358e21c042"
      },
      "execution_count": null,
      "outputs": [
        {
          "output_type": "display_data",
          "data": {
            "text/plain": [
              "<Figure size 640x480 with 1 Axes>"
            ],
            "image/png": "[encoded data removed]"
          },
          "metadata": {}
        }
      ]
    },
    {
      "cell_type": "markdown",
      "source": [
        "Podemos observar en el gráfico de las curvas de aprendizaje que el modelo se comporta de forma correcta ajustandose al problema y obteniendo una buena generalización a medida que aumenta el tamaño del conjunto de muestras. Cuantos más datos se usan para entrenar el modelo, más generalización se consigue (al tener más información del problema y de la función objetivo) y por tanto el error $E_{out}$ se acerca cada vez más al error $E_{in}$. El modelo lineal es capaz de ajustar mejor los datos cuanto menos haya, ya que al haber menos datos, el modelo tiene que predecir menos muestras y entonces puede ajustarse mejor a una cantidad menor de datos, por lo tanto el error $E_{in}$ aumenta con el tamaño del conjunto de entrenamiento. Por otro lado, podemos observar que el error $E_{out}$ no disminuye con el aumento del tamaño de los datos, y esto puede ser debido a que la complejidad del modelo no es suficiente para ajustar correctamente el problema y por tanto aunque se utilice una cantidad mayor de los datos, el modelo no es capaz de ajustarse al problema y por tanto sigue obteniendo un error $E_{out}$ constante y elevado. La clase de funciones de este modelo $\\mathcal H$ no es suficientemenete grande y compleja y por tanto no contiene funciones que se aproximen correctamente a la función objetivo. Por lo tanto partiendo de esta hipótesis, el problema no se puede resolver utilizando un modelo simple como el que hemos implementado, sino que habría que utilizar modelos más complejos que se pudiesen ajustar a los propios datos del problema en el entrenamiento y así obtener mejores resultados globales."
      ],
      "metadata": {
        "id": "snfIDa9nVGR-"
      }
    },
    {
      "cell_type": "markdown",
      "source": [
        "#### <font color='blue'>9)  Suponga ahora que Ud. debe realizar este ajuste para una empresa que le ha proporcionado los datos, sin distinción entre training y test. ¿Cúal sería el mejor modelo que les propondría, y qué error  $E_{out}$ les diría que tiene? Justifique todas las decisiones. 0.5 puntos."
      ],
      "metadata": {
        "id": "E_x9IPmEg_RX"
      }
    },
    {
      "cell_type": "markdown",
      "source": [
        "Tal y como he explicado en esta práctica, realizaría los siguientes pasos:\n",
        "\n",
        "\n",
        "1.   Separar el conjunto de datos en una parte de entrenameinto y otra de test\n",
        "2.   Analizar el problema observando de donde proceden los datos, que variables se utilizan y de que tipo, como se han extraido los datos y elegir los modelos que se pretenden usar para ajustar este problema específico.\n",
        "3.   Analizar el conjunto de datos de training para tratar de encontrar variables constantes, desequilibrio en las clases y cualquier peculiaridad más del conjunto de entrenamiento.\n",
        "4.   Preprocesar los datos codificando las varaibles que sean necesarias como las categóricas, escalar los datos y aplicar cualquier procesamiento necesario al conjutno de datos.\n",
        "5.   Establecer la técnica de Validación cruzada eligiendo el número de particiones si los datos son suficientes como para permitirlo.\n",
        "6.   Establecer las métrcias que son necesarias dependiendo del conjunto de datos y los hiperparámetros que se van a escoger experimentalmente junto con la regularización elegida para el conjutno de datos en concreto.\n",
        "7.   Realiza la técnica de Validación cruzada para elegir los hiperparámetros de los modelos y evaluar los resultados para obtener la mejor hipótesis final para el problema.\n",
        "8.   Estimar el error  $E_{out}$ a partir del conjunto de test y evaluar los resultados obtenidos finales. Este modelo sería el modelo que se porpondría a la empresa junto con el error $E_{out}$ estimado a partir del error $E_{test}$.\n",
        "\n",
        "Durante los apartados anteriores he explicado los motivos que me han llevado a tomar cada decisión justificando las ventajas y desventajas de realizar cada paso.\n",
        "\n",
        "La técnica de validación cruzada la utilizaría siempre que el coste computacional me lo permita, ya que he comprobado en esta práctica que en algunos casos el tiempo necesario para realizar la técnica es demasiado elevado y por tanto habrá que utilizar el conjunto de entrenamiento completo para entrenar el modelo y el error $E_{in}$ del entrenamiento como indicativo de la calidad de los resultados para elegir los parámetros y el modelo final.\n",
        "\n",
        "\n",
        "El error $E_{out}$ sería una estimación de este error a partir del error $E_{test}$ obtenido mediante el conjunto de test que he separado de los datos que me ofrece la empresa. Por lo tanto el error $E_{out}$ sería el error $E_{test}$ que obtengo a partir de mi modelo final que he elegido como mejor modelo. Este estimador del error $E_{out}$ es el mejor estimador debido a la teoría de la dimensión de Vapink-Chervonenkis junto con la teoría desarrollada en torno a la desigualdad de Hoeffding que ofrecen unas cotas del error $E_{out}$ en torno a los valores que se pueden obtener de los errores $E_{test}$ y $E_{in}$. Sin embargo, el uso de un conjunto de test implica un entrenamiento del modelo con un conjunto de datos menor, lo que afectará a la generalización y ajuste del prblema y por lo tanto a los resultados obtenidos. Cuanto mayor sea el conjunto de test, mejor será la estimación del error $E_{out}$ y peores resultados de entrenameinto se obtendrán, es por eso que se debe elgir un equilibrio entre una mejor estimación y un entrenamiento mejor.  \n",
        "\n",
        "En algunos casos, si los datos son escasos o se considera que no son suficientes, se podría utilizar todo el conjunto de datos como entrenamiento y estimar el error $E_{out}$ a partir del error $E_{in}$ del entrenamiento. Este es el caso extremo de obtener un peor estimador pero entrenar con un conjunto mayor de datos puede dar lugar a obtener mejores resultados en el ajuste del modelo.\n",
        "\n",
        "Esto ocurre también con Cross-Validation donde se utiliza una parte del conjunto de entrenamiento para validar y obtener una estimación del error del modelo. Al realizar diversas particiones y estimar con un conjunto de validación distinto cada vez se puede obtener un buen estimador del error realizando el promerdio de todas las particiones pero esto conlleva un aumento del coste computacional a parteque puede dificultar el proceso de aprendizaje del modelo.\n",
        "\n",
        "En el problema que se ha tratado de resolver mediante aprendizaje automático en los apartados anteriores, he explicado cuál era el mejor modelo que se ha conseguido obtener y yo propondría ese modelo para resolver este problema con el error $E_{out}$ que se ha estimado a partir del error $E_{test}$. Si además se disponde del conjunto de test, yo, personalmente, ofrecería como error del modelo el error $E_{test}$ obtenido a partir del modelo entrenado con los datos de entrenamiento, y después volvería a entrenar el modelo con el conjunto total de los datos (test incluido) y ofrecería ese modelo como modelo final. Como este modelo ha sido entrenado con una cantidad mayor de datos, el error proprocionado $E_{test}$ será una cota superior del error $E_{out}$ del modelo final y por tanto el error ofrecido será pesimista. Si por el contrario no se disponde del conjunto de test y la empresa se encarga de realiza el test conotro conjunto de datos, aun así del conjunto que se disponde crearía mis propias particiones como se ha comentado antes en entrenameinto y test y se haría el mismo proceso siguiendo los pasos."
      ],
      "metadata": {
        "id": "ne9xMXuEXy79"
      }
    }
  ]
}